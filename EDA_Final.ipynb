{
 "cells": [
  {
   "cell_type": "markdown",
   "metadata": {},
   "source": [
    "# Freddie Mac residential mortgage data set\n",
    "\n",
    "- Thomas Butler (vra2cf)\n",
    "- Andrej Erkelens (wsw3fa)\n",
    "- Matt Suozzi (mds5dd)\n",
    "\n",
    "Freddie Mac has public data sets of residential mortgages dating back to January 1, 1999. The data is available on a quarterly basis in two files: origination and performance. The origination data maintains 31 features about the loan as of the closing date, including: first payment date, credit score, debt-to-income, loan-to-value, interest rate, amortization type, property type, and geography. The performance data maintains 31 features of the loan as of March 31, 2021, including: delinquency status, loan age, months to maturity, estimated loan-to-value, actual loss, delinquency due to disaster, and others. The two files can be joined on a common feature - Loan Sequence Number.\n",
    "\n",
    "In early 2020, the Covid-19 pandemic impacted the US economy, as quarantine rules kept many people home from work. Even though increasing unemployment rates created uncertainty and caution of a potential recession, the housing market boomed in highly desirable locations of the country due to the acceptance of remote work.\n",
    "\n",
    "We will combine quarterly files from Q1 2019 through Q3 2020, with loan payment history and delinquency status as of Q1 2021. The combined data set will provide insight into features that cause delinquency and the impact from the Covid-19 pandemic.\n",
    "\n",
    "For the project, the group will explore the following questions:\n",
    "\n",
    " - Predict delinquencies: (Primary Question)\n",
    "     - What features impact delinquency?\n",
    "     - What is the average time to delinquency?\n",
    "     - What is the average loss given delinquency?\n",
    " - Impact from the pandemic?\n",
    " - Which areas of the US will have a high level of single family loans in the next 12 months?\n",
    "     - Evaluate the # and $ of loans and the change in values/volume in certain areas. Since the data spans from pre-covid through the first 6 months it would be interesting to see the shift (i.e. NYC -> FL/TX)"
   ]
  },
  {
   "cell_type": "code",
   "execution_count": 1,
   "metadata": {},
   "outputs": [],
   "source": [
    "from pyspark.sql import SparkSession\n",
    "from pyspark.sql.types import StructType, StructField, StringType, IntegerType, FloatType\n",
    "spark = SparkSession.builder \\\n",
    "    .master(\"local[5]\") \\\n",
    "    .config(\"spark.driver.memory\",'4g') \\\n",
    "    .getOrCreate()\n",
    "\n",
    "import pandas as pd"
   ]
  },
  {
   "cell_type": "markdown",
   "metadata": {},
   "source": [
    "### Load data files\n",
    "Create two Spark DataFrames for origination and monthly performance data. Combine files. \n",
    "Can later join data on Loan Sequence Number."
   ]
  },
  {
   "cell_type": "code",
   "execution_count": 2,
   "metadata": {},
   "outputs": [],
   "source": [
    "#need to make [First_Payment_Date, Maturity_Date] into a date type\n",
    "# Schema for origination data files (31 columns)\n",
    "schema = StructType([StructField('Credit_Score', IntegerType(), True),  #Potential predictor variable\n",
    "                     StructField('First_Payment_Date', StringType(), True), # EDA time \n",
    "                     StructField('First_Time_Homebuyer_Flag', StringType(), True),\n",
    "                     StructField('Maturity_Date', StringType(), True), \n",
    "                     StructField('Metropolitan_Statistical_Area_or_Metropolitan_Division', IntegerType(), True), \n",
    "                     StructField('Mortgage_Insurance_Percentage(MI%)', IntegerType(), True),\n",
    "                     StructField('Number_of_Units', IntegerType(), True),\n",
    "                     StructField('Occupancy_Status', StringType(), True),\n",
    "                     StructField('Original_Combined_Loan-to-Value_CLTV', IntegerType(), True), #Potential predictor variable\n",
    "                     StructField('Original_Debt-to-Income_DTI_Ratio', IntegerType(), True), #Potential predictor variable\n",
    "                     StructField('Original_UPB', IntegerType(), True),\n",
    "                     StructField('Original_Loan-to-Value(LTV)', IntegerType(), True),\n",
    "                     StructField('Original_Interest_Rate', FloatType(), True),\n",
    "                     StructField('Channel', StringType(), True),\n",
    "                     StructField('Prepayment_Penalty_Mortgage(PPM)_Flag', StringType(), True),\n",
    "                     StructField('Amortization_Type', StringType(), True),\n",
    "                     StructField('Property_State', StringType(), True),\n",
    "                     StructField('Property_Type', StringType(), True),\n",
    "                     StructField('Postal_Code', IntegerType(), True), # Can convert Code to Name or Map?\n",
    "                     StructField('Loan_Sequence_Number', StringType(), True), # Join\n",
    "                     StructField('Loan_Purpose', StringType(), True), #Potential predictor variable\n",
    "                     StructField('Original_Loan_Term', IntegerType(), True),\n",
    "                     StructField('Number_of_Borrowers', StringType(), True),\n",
    "                     StructField('Seller_Name', StringType(), True),\n",
    "                     StructField('Servicer_Name', StringType(), True),\n",
    "                     StructField('Super_Conforming_Flag', StringType(), True),\n",
    "                     StructField('Pre_Harp_Loan_Sequence_Number', StringType(), True),\n",
    "                     StructField('Program_Indicator', StringType(), True),\n",
    "                     StructField('Harp_Indicator', StringType(), True),\n",
    "                     StructField('Property_Valuation_Method', IntegerType(), True),\n",
    "                     StructField('Interest_Only_Indicator(I/O_Indicator)', StringType(), True)]\n",
    "                   )\n",
    "\n",
    "df = spark.read.options(delimiter=\"|\")\\\n",
    ".schema(schema)\\\n",
    ".csv(\"/project/ds5559/Group_6_Housing/DS-5110-Final-Project/historical_data_2019Q1.txt\") # origination_files[0]"
   ]
  },
  {
   "cell_type": "code",
   "execution_count": 3,
   "metadata": {},
   "outputs": [],
   "source": [
    "# Schema for performance data files (31 columns)\n",
    "schema_perf = StructType([StructField('Loan_Sequence_Number', StringType(), True),\n",
    "                     StructField('Monthly_Reporting_Period', StringType(), True), # Date Type\n",
    "                     StructField('Current_Actual_UPB', IntegerType(), True), # Float\n",
    "                     StructField('Current_Loan_Delinquency_Status', StringType(), True), #***Response Variable for Deliquency Question****\n",
    "                     StructField('Loan_Age', IntegerType(), True),\n",
    "                     StructField('Remaining_Months_to_Legal_Maturity', IntegerType(), True),\n",
    "                     StructField('Repurchase_Flag', StringType(), True),\n",
    "                     StructField('Modification_Flag', StringType(), True),\n",
    "                     StructField('Zero_Balance_Code', IntegerType(), True),\n",
    "                     StructField('Zero_Balance_Effective_Date', IntegerType(), True), # Date Type\n",
    "                     StructField('Current_Interest_Rate', FloatType(), True),# Float\n",
    "                     StructField('Current_Deferred_UPB', IntegerType(), True),\n",
    "                     StructField('Due_Date_of_Last_Paid_Installment (DDLPI)', IntegerType(), True), # Date\n",
    "                     StructField('MI Recoveries', IntegerType(), True), # Float\n",
    "                     StructField('Net_Sales_Proceeds', StringType(), True), # U for Unknown or Float\n",
    "                     StructField('Non MI Recoveries', IntegerType(), True), # Float\n",
    "                     StructField('Expenses', IntegerType(), True), # Float\n",
    "                     StructField('Legal_Costs', IntegerType(), True), # Float\n",
    "                     StructField('Maintenance_and_Preservation_Costs', IntegerType(), True), # Float\n",
    "                     StructField('Taxes_and_Insurance', IntegerType(), True), # Float\n",
    "                     StructField('Miscellaneous_Expenses', IntegerType(), True), # Float\n",
    "                     StructField('Actual_Loss_Calculation', IntegerType(), True), # Float\n",
    "                     StructField('Modification_Cost', IntegerType(), True), # Float\n",
    "                     StructField('Step_Modification_Flag', StringType(), True),\n",
    "                     StructField('Deferred_Payment_Plan', StringType(), True),\n",
    "                     StructField('Estimated_Loan_to_Value', IntegerType(), True), # Float\n",
    "                     StructField('Zero_Balance_Removal_UPB', IntegerType(), True),\n",
    "                     StructField('Delinquent_Accrued_Interest', IntegerType(), True),\n",
    "                     StructField('Delinquency_Due_to_Disaster', StringType(), True), # Consider removing these as outliers\n",
    "                     StructField('Borrower_Assistance_Status_Code', StringType(), True),\n",
    "                     StructField('Current_Month_Modification_Cost', IntegerType(), True)]\n",
    "                   )\n",
    "\n",
    "df2 = spark.read.options(delimiter=\"|\")\\\n",
    ".schema(schema_perf)\\\n",
    ".csv(\"/project/ds5559/Group_6_Housing/DS-5110-Final-Project/historical_data_time_2019Q1.txt\") # performance_files[0]"
   ]
  },
  {
   "cell_type": "code",
   "execution_count": 36,
   "metadata": {},
   "outputs": [
    {
     "data": {
      "text/plain": [
       "['Loan_Sequence_Number',\n",
       " 'Monthly_Reporting_Period',\n",
       " 'Current_Actual_UPB',\n",
       " 'Current_Loan_Delinquency_Status',\n",
       " 'Loan_Age',\n",
       " 'Remaining_Months_to_Legal_Maturity',\n",
       " 'Repurchase_Flag',\n",
       " 'Modification_Flag',\n",
       " 'Zero_Balance_Code',\n",
       " 'Zero_Balance_Effective_Date',\n",
       " 'Current_Interest_Rate',\n",
       " 'Current_Deferred_UPB',\n",
       " 'Due_Date_of_Last_Paid_Installment (DDLPI)',\n",
       " 'MI Recoveries',\n",
       " 'Net_Sales_Proceeds',\n",
       " 'Non MI Recoveries',\n",
       " 'Expenses',\n",
       " 'Legal_Costs',\n",
       " 'Maintenance_and_Preservation_Costs',\n",
       " 'Taxes_and_Insurance',\n",
       " 'Miscellaneous_Expenses',\n",
       " 'Actual_Loss_Calculation',\n",
       " 'Modification_Cost',\n",
       " 'Step_Modification_Flag',\n",
       " 'Deferred_Payment_Plan',\n",
       " 'Estimated_Loan_to_Value',\n",
       " 'Zero_Balance_Removal_UPB',\n",
       " 'Delinquent_Accrued_Interest',\n",
       " 'Delinquency_Due_to_Disaster',\n",
       " 'Borrower_Assistance_Status_Code',\n",
       " 'Current_Month_Modification_Cost',\n",
       " 'Current_Loan_Delinquency_Status_Cat',\n",
       " 'Monthly_Reporting_Period_TS',\n",
       " 'Monthly_Reporting_Period_TS_num',\n",
       " 'Reporting_Year',\n",
       " 'Reporting_Month']"
      ]
     },
     "execution_count": 36,
     "metadata": {},
     "output_type": "execute_result"
    }
   ],
   "source": [
    "df_perf.columns"
   ]
  },
  {
   "cell_type": "code",
   "execution_count": 4,
   "metadata": {},
   "outputs": [
    {
     "name": "stdout",
     "output_type": "stream",
     "text": [
      "<class 'pyspark.sql.dataframe.DataFrame'>\n",
      "281046 31\n",
      "<class 'pyspark.sql.dataframe.DataFrame'>\n",
      "5449876 31\n"
     ]
    }
   ],
   "source": [
    "print(type(df))\n",
    "print(df.count(), len(df.columns))\n",
    "\n",
    "print(type(df2))\n",
    "print(df2.count(), len(df2.columns))"
   ]
  },
  {
   "cell_type": "code",
   "execution_count": 4,
   "metadata": {},
   "outputs": [],
   "source": [
    "# list of the data files\n",
    "directory = \"/project/ds5559/Group_6_Housing/DS-5110-Final-Project/\"\n",
    "origination_files = [\"historical_data_2019Q1.txt\", \"historical_data_2019Q2.txt\", \"historical_data_2019Q3.txt\", \"historical_data_2019Q4.txt\", \"historical_data_2020Q1.txt\", \"historical_data_2020Q2.txt\", \"historical_data_2020Q3.txt\"]\n",
    "performance_files = [\"historical_data_time_2019Q1.txt\", \"historical_data_time_2019Q2.txt\", \"historical_data_time_2019Q3.txt\", \"historical_data_time_2019Q4.txt\", \"historical_data_time_2020Q1.txt\", \"historical_data_time_2020Q2.txt\", \"historical_data_time_2020Q3.txt\"]\n"
   ]
  },
  {
   "cell_type": "code",
   "execution_count": 5,
   "metadata": {},
   "outputs": [
    {
     "name": "stdout",
     "output_type": "stream",
     "text": [
      "281045 281045\n",
      "414828 695873\n",
      "542968 1238841\n",
      "545531 1784372\n",
      "517499 2301871\n",
      "925663 3227534\n",
      "1186319 4413853\n"
     ]
    }
   ],
   "source": [
    "# Size of each file and cumulative count\n",
    "size = 0\n",
    "total = 0\n",
    "file_count = pd.DataFrame(columns=['size'])\n",
    "for i in range(len(origination_files)):\n",
    "    data = spark.read.options(delimiter=\"|\")\\\n",
    "            .schema(schema)\\\n",
    "            .csv(directory+origination_files[i], header = True)\n",
    "    size = data.count() # don't measure distinct().count()\n",
    "    total += size\n",
    "    print(size, total)   "
   ]
  },
  {
   "cell_type": "code",
   "execution_count": 5,
   "metadata": {},
   "outputs": [],
   "source": [
    "# Combine all files\n",
    "df_orig = df\n",
    "for i in range(1,len(origination_files)):\n",
    "    df_orig = df_orig.union(spark.read.options(delimiter=\"|\")\\\n",
    "            .schema(schema)\\\n",
    "            .csv(directory+origination_files[i], header = True))"
   ]
  },
  {
   "cell_type": "code",
   "execution_count": 8,
   "metadata": {},
   "outputs": [
    {
     "name": "stdout",
     "output_type": "stream",
     "text": [
      "4413854 31\n"
     ]
    }
   ],
   "source": [
    "# Check combined file with cumulative size\n",
    "print(df_orig.count(), len(df_orig.columns))"
   ]
  },
  {
   "cell_type": "code",
   "execution_count": 9,
   "metadata": {},
   "outputs": [
    {
     "name": "stdout",
     "output_type": "stream",
     "text": [
      "5449875 5449875\n",
      "7486618 12936493\n",
      "9015236 21951729\n",
      "7877345 29829074\n",
      "6168481 35997555\n",
      "8865475 44863030\n",
      "8161444 53024474\n"
     ]
    }
   ],
   "source": [
    "# Size of each file and cumulative count\n",
    "size = 0\n",
    "total = 0\n",
    "for i in range(len(performance_files)):\n",
    "    data = spark.read.options(delimiter=\"|\")\\\n",
    "            .schema(schema)\\\n",
    "            .csv(directory+performance_files[i], header = True)\n",
    "    size = data.count() # don't measure distinct().count()\n",
    "    total += size\n",
    "    print(size, total)"
   ]
  },
  {
   "cell_type": "code",
   "execution_count": 6,
   "metadata": {},
   "outputs": [],
   "source": [
    "# Combine all files\n",
    "df_perf = df2\n",
    "for i in range(1,len(performance_files)):\n",
    "    df_perf = df_perf.union(spark.read.options(delimiter=\"|\")\\\n",
    "            .schema(schema_perf)\\\n",
    "            .csv(directory+performance_files[i], header = True))"
   ]
  },
  {
   "cell_type": "code",
   "execution_count": 8,
   "metadata": {},
   "outputs": [
    {
     "name": "stdout",
     "output_type": "stream",
     "text": [
      "53024475 31\n"
     ]
    }
   ],
   "source": [
    "# Check combined file with cumulative size\n",
    "print(df_perf.count(), len(df_perf.columns))"
   ]
  },
  {
   "cell_type": "markdown",
   "metadata": {},
   "source": [
    "### Exploratory Data Analysis\n",
    "\n",
    "To Do:\n",
    "Statistical summary: originations (count, over time, by geography, by seller/servicer), credit score, debt-to-income, LTV\n",
    "\n",
    "Correlation of delinquency status and actual loss"
   ]
  },
  {
   "cell_type": "markdown",
   "metadata": {},
   "source": [
    "Statistical Summary: Response Variable"
   ]
  },
  {
   "cell_type": "markdown",
   "metadata": {},
   "source": [
    "We need to make larger categories for the response variable or make it a numeric variable but what do we put for the defaulted loans? (RA)\n",
    "\n",
    "Making categories for 0, past due, Deliquent.\n",
    "\n",
    "Explore the number of delinquencies from disaster (and as a proportion of overall delinquencies)."
   ]
  },
  {
   "cell_type": "code",
   "execution_count": 7,
   "metadata": {},
   "outputs": [],
   "source": [
    "from pyspark.sql import functions as F\n",
    "from pyspark.sql.functions import *\n",
    "import pandas as pd\n",
    "import numpy as np\n",
    "%matplotlib inline\n",
    "import matplotlib.pyplot as plt"
   ]
  },
  {
   "cell_type": "code",
   "execution_count": 8,
   "metadata": {},
   "outputs": [
    {
     "name": "stdout",
     "output_type": "stream",
     "text": [
      "+-----------------------------------+-------------------------------------+--------------------+\n",
      "|Current_Loan_Delinquency_Status_Cat|Current_Loan_Delinquency_Status_count|             Percent|\n",
      "+-----------------------------------+-------------------------------------+--------------------+\n",
      "|                                  0|                             51983637|    98.0370611873102|\n",
      "|                          Deliquent|                                   44|8.298054813366847E-5|\n",
      "|                           Past_Due|                              1040794|  1.9628558321416665|\n",
      "+-----------------------------------+-------------------------------------+--------------------+\n",
      "\n"
     ]
    }
   ],
   "source": [
    "#How to do summary on Numeric Column\n",
    "#df_perf.select(\"Current_Loan_Delinquency_Status\").summary().show()\n",
    "\n",
    "total = df_perf.count()\n",
    "num_lis = [str(num) for num in range(1,26)]\n",
    "\n",
    "#Making new categories for Current_Loan_Delinquency_Status\n",
    "df_perf = df_perf.withColumn(\"Current_Loan_Delinquency_Status_Cat\", when(df_perf.Current_Loan_Delinquency_Status.isin(num_lis), \"Past_Due\").\\\n",
    "                             when(df_perf.Current_Loan_Delinquency_Status == \"R\",\"Deliquent\").\\\n",
    "                            otherwise(df_perf.Current_Loan_Delinquency_Status))\n",
    "#Summary on Categorical Column\n",
    "response_cat = df_perf.select(\"Current_Loan_Delinquency_Status_Cat\").\\\n",
    "                groupBy('Current_Loan_Delinquency_Status_Cat').\\\n",
    "                agg(F.count('Current_Loan_Delinquency_Status_Cat').alias(\"Current_Loan_Delinquency_Status_count\")).\\\n",
    "                withColumn(\"Percent\", col('Current_Loan_Delinquency_Status_count')/total*100)\n",
    "\n",
    "response_cat.show()"
   ]
  },
  {
   "cell_type": "code",
   "execution_count": 14,
   "metadata": {},
   "outputs": [
    {
     "name": "stdout",
     "output_type": "stream",
     "text": [
      "+-------+-----------------------------------+\n",
      "|summary|Current_Loan_Delinquency_Status_num|\n",
      "+-------+-----------------------------------+\n",
      "|  count|                           53024431|\n",
      "|   mean|                0.06854570490346233|\n",
      "| stddev|                  0.631948389520299|\n",
      "|    min|                                  0|\n",
      "|    25%|                                  0|\n",
      "|    50%|                                  0|\n",
      "|    75%|                                  0|\n",
      "|    max|                                 25|\n",
      "+-------+-----------------------------------+\n",
      "\n"
     ]
    }
   ],
   "source": [
    "#Numeric Response Variable, remove all loans that have alread defaulted.\n",
    "response_num = df_perf.filter(df_perf.Current_Loan_Delinquency_Status != \"R\")\n",
    "\n",
    "#recast response variable as int type.\n",
    "response_num = response_num.withColumn(\"Current_Loan_Delinquency_Status_num\", response_num[\"Current_Loan_Delinquency_Status\"].cast(IntegerType())).\\\n",
    "                                        drop(\"Current_Loan_Delinquency_Status\")\n",
    "response_num.select(\"Current_Loan_Delinquency_Status_num\").summary().show()"
   ]
  },
  {
   "cell_type": "code",
   "execution_count": 17,
   "metadata": {},
   "outputs": [
    {
     "name": "stdout",
     "output_type": "stream",
     "text": [
      "+-------+------------------+------------------------------------+------------------+----------------------+\n",
      "|summary|      Original_UPB|Original_Combined_Loan-to-Value_CLTV|Original_Loan_Term|Original_Interest_Rate|\n",
      "+-------+------------------+------------------------------------+------------------+----------------------+\n",
      "|  count|           4413854|                             4413854|           4413854|               4413854|\n",
      "|   mean|274836.89967996225|                    73.0423330721859| 322.2726839175016|    3.5965916045151074|\n",
      "| stddev|136876.31969977848|                  17.334214262459096|  70.5439242088245|    0.6973193761271437|\n",
      "|    min|              1000|                                   6|                84|                  1.75|\n",
      "|    25%|            171000|                                  63|               360|                   3.0|\n",
      "|    50%|            252000|                                  75|               360|                   3.5|\n",
      "|    75%|            358000|                                  85|               360|                   4.0|\n",
      "|    max|           1473000|                                 999|               366|                   7.0|\n",
      "+-------+------------------+------------------------------------+------------------+----------------------+\n",
      "\n"
     ]
    }
   ],
   "source": [
    "summary_cols = ['Original_UPB', 'Original_Combined_Loan-to-Value_CLTV','Original_Loan_Term','Original_Interest_Rate']\n",
    "\n",
    "df_orig.select(*summary_cols).summary().show()"
   ]
  },
  {
   "cell_type": "code",
   "execution_count": 18,
   "metadata": {},
   "outputs": [
    {
     "data": {
      "text/plain": [
       "array([[<AxesSubplot:title={'center':'Original_UPB'}>]], dtype=object)"
      ]
     },
     "execution_count": 18,
     "metadata": {},
     "output_type": "execute_result"
    },
    {
     "data": {
      "image/png": "[encoded data removed]",
      "text/plain": [
       "<Figure size 432x288 with 1 Axes>"
      ]
     },
     "metadata": {
      "needs_background": "light"
     },
     "output_type": "display_data"
    }
   ],
   "source": [
    "# Histogram of loan balances\n",
    "df_orig.select('Original_UPB').toPandas().hist()"
   ]
  },
  {
   "cell_type": "code",
   "execution_count": 15,
   "metadata": {},
   "outputs": [],
   "source": [
    "# Breaking out features for EDA purposes - not really necessary\n",
    "quant_features = ['Credit_Score', 'Original_Debt-to-Income_DTI_Ratio', 'Original_Combined_Loan-to-Value_CLTV', 'Original_Loan_Term']\n",
    "cat_features_orig = [\"First_Time_Homebuyer_Flag\", \"Occupancy_Status\", \"Loan_Purpose\", \"Number_of_Borrowers\"]\n",
    "loan_terms = ['Original_Interest_Rate', 'Amortization_Type']\n",
    "quant_features_perf = [\"Current_Interest_Rate\", \"Loan_Age\", \"Remaining_Months_to_Legal_Maturity\"]\n",
    "cat_features_perf = [\"Modification_Flag\"]"
   ]
  },
  {
   "cell_type": "code",
   "execution_count": 16,
   "metadata": {},
   "outputs": [],
   "source": [
    "df_orig_quant = df_orig.select('Credit_Score', 'Original_Debt-to-Income_DTI_Ratio', 'Original_Combined_Loan-to-Value_CLTV', \"Original_Loan_Term\", \n",
    "                               'Original_Interest_Rate')\n",
    "df_perf_quant= df_perf.select('Current_Interest_Rate', \"Loan_Age\", \"Remaining_Months_to_Legal_Maturity\")"
   ]
  },
  {
   "cell_type": "code",
   "execution_count": 17,
   "metadata": {},
   "outputs": [
    {
     "name": "stdout",
     "output_type": "stream",
     "text": [
      "+-------+------------------+---------------------------------+------------------------------------+------------------+----------------------+\n",
      "|summary|      Credit_Score|Original_Debt-to-Income_DTI_Ratio|Original_Combined_Loan-to-Value_CLTV|Original_Loan_Term|Original_Interest_Rate|\n",
      "+-------+------------------+---------------------------------+------------------------------------+------------------+----------------------+\n",
      "|  count|           4413854|                          4413854|                             4413854|           4413854|               4413854|\n",
      "|   mean| 758.0140213065498|               34.269540859303454|                    73.0423330721859| 322.2726839175016|    3.5965916045151074|\n",
      "| stddev|162.53575254058413|               19.041083383378663|                  17.334214262459096|  70.5439242088245|    0.6973193761271437|\n",
      "|    min|               309|                                1|                                   6|                84|                  1.75|\n",
      "|    25%|               727|                               27|                                  63|               360|                   3.0|\n",
      "|    50%|               764|                               35|                                  75|               360|                   3.5|\n",
      "|    75%|               790|                               42|                                  85|               360|                   4.0|\n",
      "|    max|              9999|                              999|                                 999|               366|                   7.0|\n",
      "+-------+------------------+---------------------------------+------------------------------------+------------------+----------------------+\n",
      "\n"
     ]
    }
   ],
   "source": [
    "df_orig_quant.summary().show()"
   ]
  },
  {
   "cell_type": "code",
   "execution_count": 18,
   "metadata": {},
   "outputs": [
    {
     "data": {
      "text/plain": [
       "0.02890897614646973"
      ]
     },
     "execution_count": 18,
     "metadata": {},
     "output_type": "execute_result"
    }
   ],
   "source": [
    "total = df_orig.count()\n",
    "df_orig.filter(df_orig[\"Original_Debt-to-Income_DTI_Ratio\"] == 999).count()/total *100"
   ]
  },
  {
   "cell_type": "code",
   "execution_count": 19,
   "metadata": {},
   "outputs": [
    {
     "data": {
      "text/plain": [
       "0.0015632596819015762"
      ]
     },
     "execution_count": 19,
     "metadata": {},
     "output_type": "execute_result"
    }
   ],
   "source": [
    "df_orig.filter(df_orig[\"Original_Combined_Loan-to-Value_CLTV\"] == 999).count()/total*100"
   ]
  },
  {
   "cell_type": "code",
   "execution_count": 20,
   "metadata": {},
   "outputs": [
    {
     "name": "stdout",
     "output_type": "stream",
     "text": [
      "+-------+---------------------+-----------------+----------------------------------+\n",
      "|summary|Current_Interest_Rate|         Loan_Age|Remaining_Months_to_Legal_Maturity|\n",
      "+-------+---------------------+-----------------+----------------------------------+\n",
      "|  count|             53024475|         53024475|                          53024475|\n",
      "|   mean|   3.7909002440887694|6.737731905879313|                  317.883591813026|\n",
      "| stddev|   0.7073987366708038|5.251733742385626|                 69.00840856183055|\n",
      "|    min|                 1.75|                0|                                71|\n",
      "|    25%|                 3.25|                3|                               342|\n",
      "|    50%|                 3.75|                6|                               352|\n",
      "|    75%|                 4.25|               10|                               356|\n",
      "|    max|                  7.0|               25|                               480|\n",
      "+-------+---------------------+-----------------+----------------------------------+\n",
      "\n"
     ]
    }
   ],
   "source": [
    "df_perf_quant.summary().show()"
   ]
  },
  {
   "cell_type": "code",
   "execution_count": 21,
   "metadata": {},
   "outputs": [
    {
     "name": "stdout",
     "output_type": "stream",
     "text": [
      "+-------------------------+-------------------------------+------------------+\n",
      "|First_Time_Homebuyer_Flag|First_Time_Homebuyer_Flag_count|           Percent|\n",
      "+-------------------------+-------------------------------+------------------+\n",
      "|                        Y|                         705563|15.985191173065536|\n",
      "|                        N|                         822093| 18.62528756048569|\n",
      "|                        9|                        2886198| 65.38952126644878|\n",
      "+-------------------------+-------------------------------+------------------+\n",
      "\n"
     ]
    }
   ],
   "source": [
    "total = df_orig.count()\n",
    "Homebuyer_cat = df_orig.select(\"First_Time_Homebuyer_Flag\").\\\n",
    "                groupBy('First_Time_Homebuyer_Flag').\\\n",
    "                agg(F.count('First_Time_Homebuyer_Flag').alias(\"First_Time_Homebuyer_Flag_count\")).\\\n",
    "                withColumn(\"Percent\", col('First_Time_Homebuyer_Flag_count')/total*100)\n",
    "Homebuyer_cat.show()"
   ]
  },
  {
   "cell_type": "code",
   "execution_count": 22,
   "metadata": {},
   "outputs": [
    {
     "name": "stdout",
     "output_type": "stream",
     "text": [
      "+----------------+----------------------+------------------+\n",
      "|Occupancy_Status|Occupancy_Status_count|           Percent|\n",
      "+----------------+----------------------+------------------+\n",
      "|               S|                162656| 3.685124156802649|\n",
      "|               I|                225747|5.1145099044961615|\n",
      "|               P|               4025451| 91.20036593870118|\n",
      "+----------------+----------------------+------------------+\n",
      "\n"
     ]
    }
   ],
   "source": [
    "Occupancy_Status_cat = df_orig.select(\"Occupancy_Status\").\\\n",
    "                groupBy('Occupancy_Status').\\\n",
    "                agg(F.count('Occupancy_Status').alias(\"Occupancy_Status_count\")).\\\n",
    "                withColumn(\"Percent\", col('Occupancy_Status_count')/total*100)\n",
    "Occupancy_Status_cat.show()"
   ]
  },
  {
   "cell_type": "code",
   "execution_count": 23,
   "metadata": {},
   "outputs": [
    {
     "name": "stdout",
     "output_type": "stream",
     "text": [
      "+------------+------------------+------------------+\n",
      "|Loan_Purpose|Loan_Purpose_count|           Percent|\n",
      "+------------+------------------+------------------+\n",
      "|           C|            865854|19.616734037872572|\n",
      "|           N|           1806142|40.919840121580826|\n",
      "|           P|           1741858|39.463425840546606|\n",
      "+------------+------------------+------------------+\n",
      "\n"
     ]
    }
   ],
   "source": [
    "Loan_Purpose_cat = df_orig.select(\"Loan_Purpose\").\\\n",
    "                groupBy('Loan_Purpose').\\\n",
    "                agg(F.count('Loan_Purpose').alias(\"Loan_Purpose_count\")).\\\n",
    "                withColumn(\"Percent\", col('Loan_Purpose_count')/total*100)\n",
    "Loan_Purpose_cat.show()"
   ]
  },
  {
   "cell_type": "code",
   "execution_count": 24,
   "metadata": {},
   "outputs": [
    {
     "name": "stdout",
     "output_type": "stream",
     "text": [
      "+-------------------+-------------------------+-----------------+\n",
      "|Number_of_Borrowers|Number_of_Borrowers_count|          Percent|\n",
      "+-------------------+-------------------------+-----------------+\n",
      "|                 01|                  2288623|51.85089946337147|\n",
      "|                 02|                  2125231|48.14910053662854|\n",
      "+-------------------+-------------------------+-----------------+\n",
      "\n"
     ]
    }
   ],
   "source": [
    "Number_of_Borrowers_cat = df_orig.select(\"Number_of_Borrowers\").\\\n",
    "                groupBy('Number_of_Borrowers').\\\n",
    "                agg(F.count('Number_of_Borrowers').alias(\"Number_of_Borrowers_count\")).\\\n",
    "                withColumn(\"Percent\", col('Number_of_Borrowers_count')/total*100)\n",
    "Number_of_Borrowers_cat.show()"
   ]
  },
  {
   "cell_type": "code",
   "execution_count": 25,
   "metadata": {},
   "outputs": [
    {
     "name": "stdout",
     "output_type": "stream",
     "text": [
      "+-----------------+-----------------------+------------------+\n",
      "|Modification_Flag|Modification_Flag_count|           Percent|\n",
      "+-----------------+-----------------------+------------------+\n",
      "|                Y|                   1075|0.0020273656646294|\n",
      "|                N|               53023400| 99.99797263433537|\n",
      "+-----------------+-----------------------+------------------+\n",
      "\n"
     ]
    }
   ],
   "source": [
    "#Looks like \" \" didn't translate into a value.\n",
    "df_perf = df_perf.withColumn(\"Modification_Flag\", when(df_perf.Modification_Flag.isNull(), \"N\").otherwise(df_perf.Modification_Flag))\n",
    "\n",
    "total = df_perf.count()\n",
    "Modification_Flag_cat = df_perf.select(\"Modification_Flag\").\\\n",
    "                groupBy('Modification_Flag').\\\n",
    "                agg(F.count('Modification_Flag').alias(\"Modification_Flag_count\")).\\\n",
    "                withColumn(\"Percent\", col('Modification_Flag_count')/total*100)\n",
    "Modification_Flag_cat.show()"
   ]
  },
  {
   "cell_type": "markdown",
   "metadata": {},
   "source": [
    "Clean up outliers for Credit Score > 850, DTI > 65, CLTV > 200\n",
    "\n",
    "Look at scatter plots..."
   ]
  },
  {
   "cell_type": "code",
   "execution_count": 26,
   "metadata": {},
   "outputs": [],
   "source": [
    "# Histograms of Credit Score, DTI, LTV, Original Loan Term and Current Interest Rate\n",
    "df_quant_sp = df_orig_quant.toPandas() #.hist(figsize=(6,4))"
   ]
  },
  {
   "cell_type": "code",
   "execution_count": 27,
   "metadata": {},
   "outputs": [
    {
     "data": {
      "text/html": [
       "<div>\n",
       "<style scoped>\n",
       "    .dataframe tbody tr th:only-of-type {\n",
       "        vertical-align: middle;\n",
       "    }\n",
       "\n",
       "    .dataframe tbody tr th {\n",
       "        vertical-align: top;\n",
       "    }\n",
       "\n",
       "    .dataframe thead th {\n",
       "        text-align: right;\n",
       "    }\n",
       "</style>\n",
       "<table border=\"1\" class=\"dataframe\">\n",
       "  <thead>\n",
       "    <tr style=\"text-align: right;\">\n",
       "      <th></th>\n",
       "      <th>Credit_Score</th>\n",
       "      <th>Original_Debt-to-Income_DTI_Ratio</th>\n",
       "      <th>Original_Combined_Loan-to-Value_CLTV</th>\n",
       "      <th>Original_Loan_Term</th>\n",
       "      <th>Original_Interest_Rate</th>\n",
       "    </tr>\n",
       "  </thead>\n",
       "  <tbody>\n",
       "    <tr>\n",
       "      <th>0</th>\n",
       "      <td>758</td>\n",
       "      <td>14</td>\n",
       "      <td>55</td>\n",
       "      <td>240</td>\n",
       "      <td>4.375</td>\n",
       "    </tr>\n",
       "    <tr>\n",
       "      <th>1</th>\n",
       "      <td>768</td>\n",
       "      <td>36</td>\n",
       "      <td>52</td>\n",
       "      <td>360</td>\n",
       "      <td>3.875</td>\n",
       "    </tr>\n",
       "    <tr>\n",
       "      <th>2</th>\n",
       "      <td>798</td>\n",
       "      <td>49</td>\n",
       "      <td>80</td>\n",
       "      <td>360</td>\n",
       "      <td>4.750</td>\n",
       "    </tr>\n",
       "    <tr>\n",
       "      <th>3</th>\n",
       "      <td>789</td>\n",
       "      <td>43</td>\n",
       "      <td>39</td>\n",
       "      <td>120</td>\n",
       "      <td>3.625</td>\n",
       "    </tr>\n",
       "    <tr>\n",
       "      <th>4</th>\n",
       "      <td>782</td>\n",
       "      <td>26</td>\n",
       "      <td>80</td>\n",
       "      <td>360</td>\n",
       "      <td>4.875</td>\n",
       "    </tr>\n",
       "  </tbody>\n",
       "</table>\n",
       "</div>"
      ],
      "text/plain": [
       "   Credit_Score  Original_Debt-to-Income_DTI_Ratio  \\\n",
       "0           758                                 14   \n",
       "1           768                                 36   \n",
       "2           798                                 49   \n",
       "3           789                                 43   \n",
       "4           782                                 26   \n",
       "\n",
       "   Original_Combined_Loan-to-Value_CLTV  Original_Loan_Term  \\\n",
       "0                                    55                 240   \n",
       "1                                    52                 360   \n",
       "2                                    80                 360   \n",
       "3                                    39                 120   \n",
       "4                                    80                 360   \n",
       "\n",
       "   Original_Interest_Rate  \n",
       "0                   4.375  \n",
       "1                   3.875  \n",
       "2                   4.750  \n",
       "3                   3.625  \n",
       "4                   4.875  "
      ]
     },
     "execution_count": 27,
     "metadata": {},
     "output_type": "execute_result"
    }
   ],
   "source": [
    "df_quant_sp.head()"
   ]
  },
  {
   "cell_type": "code",
   "execution_count": 28,
   "metadata": {},
   "outputs": [
    {
     "data": {
      "text/plain": [
       "Index(['Credit_Score', 'Original_Debt-to-Income_DTI_Ratio',\n",
       "       'Original_Combined_Loan-to-Value_CLTV', 'Original_Loan_Term',\n",
       "       'Original_Interest_Rate'],\n",
       "      dtype='object')"
      ]
     },
     "execution_count": 28,
     "metadata": {},
     "output_type": "execute_result"
    }
   ],
   "source": [
    "df_quant_sp.columns"
   ]
  },
  {
   "cell_type": "markdown",
   "metadata": {},
   "source": [
    "### Cleaning up the columns"
   ]
  },
  {
   "cell_type": "code",
   "execution_count": 29,
   "metadata": {},
   "outputs": [],
   "source": [
    "df_quant_sp = df_quant_sp[~(df_quant_sp.Credit_Score > 850)]"
   ]
  },
  {
   "cell_type": "code",
   "execution_count": 30,
   "metadata": {},
   "outputs": [
    {
     "data": {
      "text/plain": [
       "45     181043\n",
       "44     177967\n",
       "43     170060\n",
       "42     163634\n",
       "41     160391\n",
       "40     157856\n",
       "39     156196\n",
       "38     153616\n",
       "37     151351\n",
       "36     150017\n",
       "35     147532\n",
       "34     146221\n",
       "33     143773\n",
       "32     141594\n",
       "31     138929\n",
       "30     135109\n",
       "29     131921\n",
       "28     128228\n",
       "27     123308\n",
       "26     118722\n",
       "25     112568\n",
       "24     106218\n",
       "49     102646\n",
       "46     100425\n",
       "23      99904\n",
       "48      97805\n",
       "47      97550\n",
       "50      93415\n",
       "22      91833\n",
       "21      84730\n",
       "20      75973\n",
       "19      67854\n",
       "18      59437\n",
       "17      51515\n",
       "16      43705\n",
       "15      36247\n",
       "14      29234\n",
       "13      23348\n",
       "12      17821\n",
       "11      13329\n",
       "10       9400\n",
       "9        6535\n",
       "8        4500\n",
       "7        2936\n",
       "6        1849\n",
       "999      1273\n",
       "5        1228\n",
       "4         763\n",
       "3         502\n",
       "2         323\n",
       "1         234\n",
       "51          6\n",
       "53          2\n",
       "54          2\n",
       "61          1\n",
       "52          1\n",
       "55          1\n",
       "56          1\n",
       "60          1\n",
       "Name: Original_Debt-to-Income_DTI_Ratio, dtype: int64"
      ]
     },
     "execution_count": 30,
     "metadata": {},
     "output_type": "execute_result"
    }
   ],
   "source": [
    "df_quant_sp['Original_Debt-to-Income_DTI_Ratio'].value_counts()"
   ]
  },
  {
   "cell_type": "code",
   "execution_count": 31,
   "metadata": {},
   "outputs": [],
   "source": [
    "# 999 clear outlier, removing all above 100 which will remove those\n",
    "df_quant_sp = df_quant_sp[~(df_quant_sp['Original_Debt-to-Income_DTI_Ratio'] > 100)]"
   ]
  },
  {
   "cell_type": "code",
   "execution_count": 32,
   "metadata": {},
   "outputs": [],
   "source": [
    "cltv_dict = dict(zip(df_quant_sp['Original_Combined_Loan-to-Value_CLTV'].value_counts().index,df_quant_sp['Original_Combined_Loan-to-Value_CLTV'].value_counts()))"
   ]
  },
  {
   "cell_type": "code",
   "execution_count": 33,
   "metadata": {},
   "outputs": [],
   "source": [
    "import collections\n",
    "cltv_sorted_d = collections.OrderedDict(sorted(cltv_dict.items()))"
   ]
  },
  {
   "cell_type": "code",
   "execution_count": 34,
   "metadata": {},
   "outputs": [
    {
     "data": {
      "text/plain": [
       "OrderedDict([(6, 76),\n",
       "             (7, 150),\n",
       "             (8, 222),\n",
       "             (9, 323),\n",
       "             (10, 510),\n",
       "             (11, 596),\n",
       "             (12, 853),\n",
       "             (13, 1074),\n",
       "             (14, 1354),\n",
       "             (15, 1637),\n",
       "             (16, 2125),\n",
       "             (17, 2368),\n",
       "             (18, 2832),\n",
       "             (19, 3153),\n",
       "             (20, 3902),\n",
       "             (21, 3924),\n",
       "             (22, 4649),\n",
       "             (23, 5238),\n",
       "             (24, 5810),\n",
       "             (25, 6544),\n",
       "             (26, 6503),\n",
       "             (27, 7554),\n",
       "             (28, 8401),\n",
       "             (29, 9011),\n",
       "             (30, 10393),\n",
       "             (31, 10301),\n",
       "             (32, 11672),\n",
       "             (33, 11729),\n",
       "             (34, 13496),\n",
       "             (35, 14255),\n",
       "             (36, 14689),\n",
       "             (37, 15354),\n",
       "             (38, 17188),\n",
       "             (39, 17589),\n",
       "             (40, 20879),\n",
       "             (41, 18345),\n",
       "             (42, 20884),\n",
       "             (43, 22352),\n",
       "             (44, 23266),\n",
       "             (45, 24950),\n",
       "             (46, 25444),\n",
       "             (47, 26952),\n",
       "             (48, 29148),\n",
       "             (49, 30628),\n",
       "             (50, 45150),\n",
       "             (51, 30238),\n",
       "             (52, 36309),\n",
       "             (53, 35221),\n",
       "             (54, 38083),\n",
       "             (55, 40893),\n",
       "             (56, 41489),\n",
       "             (57, 44755),\n",
       "             (58, 49447),\n",
       "             (59, 59734),\n",
       "             (60, 122066),\n",
       "             (61, 30191),\n",
       "             (62, 38284),\n",
       "             (63, 43761),\n",
       "             (64, 49770),\n",
       "             (65, 60546),\n",
       "             (66, 52677),\n",
       "             (67, 58613),\n",
       "             (68, 65860),\n",
       "             (69, 79210),\n",
       "             (70, 154799),\n",
       "             (71, 52762),\n",
       "             (72, 63282),\n",
       "             (73, 72704),\n",
       "             (74, 88946),\n",
       "             (75, 297290),\n",
       "             (76, 42058),\n",
       "             (77, 58193),\n",
       "             (78, 69331),\n",
       "             (79, 85567),\n",
       "             (80, 743088),\n",
       "             (81, 15590),\n",
       "             (82, 20649),\n",
       "             (83, 26527),\n",
       "             (84, 32209),\n",
       "             (85, 114563),\n",
       "             (86, 19776),\n",
       "             (87, 25077),\n",
       "             (88, 30574),\n",
       "             (89, 32753),\n",
       "             (90, 226852),\n",
       "             (91, 17237),\n",
       "             (92, 25942),\n",
       "             (93, 27138),\n",
       "             (94, 26629),\n",
       "             (95, 425548),\n",
       "             (96, 2302),\n",
       "             (97, 117116),\n",
       "             (98, 471),\n",
       "             (99, 1045),\n",
       "             (100, 5195),\n",
       "             (101, 4187),\n",
       "             (102, 3036),\n",
       "             (103, 1064),\n",
       "             (104, 672),\n",
       "             (105, 450),\n",
       "             (999, 68)])"
      ]
     },
     "execution_count": 34,
     "metadata": {},
     "output_type": "execute_result"
    }
   ],
   "source": [
    "cltv_sorted_d"
   ]
  },
  {
   "cell_type": "markdown",
   "metadata": {},
   "source": [
    "### Again 999 is a clear outlier, removing all above 500 which will remove these"
   ]
  },
  {
   "cell_type": "code",
   "execution_count": 35,
   "metadata": {},
   "outputs": [],
   "source": [
    "df_quant_sp = df_quant_sp[~(df_quant_sp['Original_Combined_Loan-to-Value_CLTV'] > 500)]"
   ]
  },
  {
   "cell_type": "code",
   "execution_count": 36,
   "metadata": {},
   "outputs": [],
   "source": [
    "loan_term_dict = dict(zip(df_quant_sp['Original_Loan_Term'].value_counts().index,df_quant_sp['Original_Loan_Term'].value_counts()))"
   ]
  },
  {
   "cell_type": "code",
   "execution_count": 37,
   "metadata": {},
   "outputs": [],
   "source": [
    "loan_term_dict_sorted = collections.OrderedDict(sorted(loan_term_dict.items()))"
   ]
  },
  {
   "cell_type": "code",
   "execution_count": 38,
   "metadata": {},
   "outputs": [
    {
     "data": {
      "text/plain": [
       "OrderedDict([(85, 9),\n",
       "             (86, 1),\n",
       "             (90, 2),\n",
       "             (96, 557),\n",
       "             (98, 1),\n",
       "             (100, 3),\n",
       "             (101, 1),\n",
       "             (104, 2),\n",
       "             (105, 2),\n",
       "             (107, 3),\n",
       "             (108, 111),\n",
       "             (109, 1),\n",
       "             (111, 2),\n",
       "             (112, 1),\n",
       "             (115, 3),\n",
       "             (116, 2),\n",
       "             (118, 1),\n",
       "             (119, 3),\n",
       "             (120, 30375),\n",
       "             (121, 85),\n",
       "             (122, 2),\n",
       "             (123, 3),\n",
       "             (125, 2),\n",
       "             (126, 5),\n",
       "             (127, 1),\n",
       "             (128, 1),\n",
       "             (129, 1),\n",
       "             (130, 2),\n",
       "             (131, 4),\n",
       "             (132, 1293),\n",
       "             (133, 3),\n",
       "             (134, 4),\n",
       "             (135, 6),\n",
       "             (136, 1),\n",
       "             (137, 2),\n",
       "             (138, 10),\n",
       "             (139, 7),\n",
       "             (140, 20),\n",
       "             (141, 12),\n",
       "             (142, 11),\n",
       "             (143, 7),\n",
       "             (144, 3687),\n",
       "             (145, 9),\n",
       "             (146, 10),\n",
       "             (147, 16),\n",
       "             (148, 16),\n",
       "             (149, 9),\n",
       "             (150, 37),\n",
       "             (151, 13),\n",
       "             (152, 18),\n",
       "             (153, 13),\n",
       "             (154, 20),\n",
       "             (155, 16),\n",
       "             (156, 1829),\n",
       "             (157, 25),\n",
       "             (158, 17),\n",
       "             (159, 21),\n",
       "             (160, 34),\n",
       "             (161, 22),\n",
       "             (162, 60),\n",
       "             (163, 30),\n",
       "             (164, 20),\n",
       "             (165, 25),\n",
       "             (166, 22),\n",
       "             (167, 17),\n",
       "             (168, 1731),\n",
       "             (169, 20),\n",
       "             (170, 48),\n",
       "             (171, 32),\n",
       "             (172, 27),\n",
       "             (173, 29),\n",
       "             (174, 29),\n",
       "             (175, 20),\n",
       "             (176, 19),\n",
       "             (177, 10),\n",
       "             (178, 26),\n",
       "             (179, 71),\n",
       "             (180, 688216),\n",
       "             (181, 14),\n",
       "             (183, 1),\n",
       "             (184, 1),\n",
       "             (185, 2),\n",
       "             (192, 139),\n",
       "             (195, 1),\n",
       "             (196, 1),\n",
       "             (199, 1),\n",
       "             (200, 3),\n",
       "             (204, 659),\n",
       "             (205, 1),\n",
       "             (206, 3),\n",
       "             (207, 6),\n",
       "             (208, 3),\n",
       "             (209, 2),\n",
       "             (210, 5),\n",
       "             (212, 4),\n",
       "             (213, 7),\n",
       "             (214, 2),\n",
       "             (215, 5),\n",
       "             (216, 886),\n",
       "             (217, 3),\n",
       "             (218, 6),\n",
       "             (219, 5),\n",
       "             (220, 9),\n",
       "             (221, 7),\n",
       "             (222, 10),\n",
       "             (223, 4),\n",
       "             (224, 8),\n",
       "             (225, 7),\n",
       "             (226, 9),\n",
       "             (227, 1),\n",
       "             (228, 687),\n",
       "             (229, 11),\n",
       "             (230, 16),\n",
       "             (231, 11),\n",
       "             (232, 9),\n",
       "             (233, 12),\n",
       "             (234, 16),\n",
       "             (235, 8),\n",
       "             (236, 2),\n",
       "             (237, 3),\n",
       "             (238, 1),\n",
       "             (239, 20),\n",
       "             (240, 236438),\n",
       "             (241, 107),\n",
       "             (242, 4),\n",
       "             (243, 3),\n",
       "             (244, 3),\n",
       "             (245, 3),\n",
       "             (246, 6),\n",
       "             (247, 6),\n",
       "             (248, 2),\n",
       "             (249, 4),\n",
       "             (250, 6),\n",
       "             (251, 3),\n",
       "             (252, 1087),\n",
       "             (253, 3),\n",
       "             (254, 6),\n",
       "             (255, 6),\n",
       "             (256, 6),\n",
       "             (257, 1),\n",
       "             (258, 9),\n",
       "             (259, 8),\n",
       "             (260, 18),\n",
       "             (261, 13),\n",
       "             (262, 9),\n",
       "             (263, 6),\n",
       "             (264, 902),\n",
       "             (265, 27),\n",
       "             (266, 16),\n",
       "             (267, 19),\n",
       "             (268, 22),\n",
       "             (269, 7),\n",
       "             (270, 31),\n",
       "             (271, 15),\n",
       "             (272, 15),\n",
       "             (273, 15),\n",
       "             (274, 16),\n",
       "             (275, 15),\n",
       "             (276, 1418),\n",
       "             (277, 20),\n",
       "             (278, 16),\n",
       "             (279, 14),\n",
       "             (280, 31),\n",
       "             (281, 26),\n",
       "             (282, 30),\n",
       "             (283, 31),\n",
       "             (284, 25),\n",
       "             (285, 42),\n",
       "             (286, 24),\n",
       "             (287, 39),\n",
       "             (288, 1637),\n",
       "             (289, 32),\n",
       "             (290, 35),\n",
       "             (291, 46),\n",
       "             (292, 70),\n",
       "             (293, 43),\n",
       "             (294, 51),\n",
       "             (295, 57),\n",
       "             (296, 40),\n",
       "             (297, 47),\n",
       "             (298, 38),\n",
       "             (299, 32),\n",
       "             (300, 46624),\n",
       "             (301, 41),\n",
       "             (302, 30),\n",
       "             (303, 25),\n",
       "             (304, 23),\n",
       "             (305, 24),\n",
       "             (306, 47),\n",
       "             (307, 26),\n",
       "             (308, 33),\n",
       "             (309, 27),\n",
       "             (310, 44),\n",
       "             (311, 37),\n",
       "             (312, 2258),\n",
       "             (313, 40),\n",
       "             (314, 36),\n",
       "             (315, 44),\n",
       "             (316, 37),\n",
       "             (317, 40),\n",
       "             (318, 46),\n",
       "             (319, 25),\n",
       "             (320, 35),\n",
       "             (321, 24),\n",
       "             (322, 36),\n",
       "             (323, 43),\n",
       "             (324, 13014),\n",
       "             (325, 60),\n",
       "             (326, 60),\n",
       "             (327, 72),\n",
       "             (328, 62),\n",
       "             (329, 60),\n",
       "             (330, 125),\n",
       "             (331, 53),\n",
       "             (332, 74),\n",
       "             (333, 65),\n",
       "             (334, 64),\n",
       "             (335, 74),\n",
       "             (336, 3526),\n",
       "             (337, 90),\n",
       "             (338, 106),\n",
       "             (339, 77),\n",
       "             (340, 152),\n",
       "             (341, 123),\n",
       "             (342, 156),\n",
       "             (343, 109),\n",
       "             (344, 106),\n",
       "             (345, 131),\n",
       "             (346, 111),\n",
       "             (347, 120),\n",
       "             (348, 14768),\n",
       "             (349, 92),\n",
       "             (350, 158),\n",
       "             (351, 142),\n",
       "             (352, 184),\n",
       "             (353, 103),\n",
       "             (354, 117),\n",
       "             (355, 79),\n",
       "             (356, 44),\n",
       "             (357, 55),\n",
       "             (358, 88),\n",
       "             (359, 268),\n",
       "             (360, 3352767),\n",
       "             (361, 2),\n",
       "             (366, 2)])"
      ]
     },
     "execution_count": 38,
     "metadata": {},
     "output_type": "execute_result"
    }
   ],
   "source": [
    "loan_term_dict_sorted"
   ]
  },
  {
   "cell_type": "code",
   "execution_count": 39,
   "metadata": {},
   "outputs": [
    {
     "data": {
      "text/plain": [
       "(1, 325791)"
      ]
     },
     "execution_count": 39,
     "metadata": {},
     "output_type": "execute_result"
    }
   ],
   "source": [
    "(df_quant_sp['Original_Interest_Rate'].value_counts().min(),df_quant_sp['Original_Interest_Rate'].value_counts().max())"
   ]
  },
  {
   "cell_type": "code",
   "execution_count": 40,
   "metadata": {},
   "outputs": [],
   "source": [
    "orig_int_dict = dict(zip(df_quant_sp['Original_Interest_Rate'].value_counts().index,df_quant_sp['Original_Interest_Rate'].value_counts()))"
   ]
  },
  {
   "cell_type": "code",
   "execution_count": 41,
   "metadata": {},
   "outputs": [],
   "source": [
    "orig_int_sort = collections.OrderedDict(sorted(orig_int_dict.items()))"
   ]
  },
  {
   "cell_type": "code",
   "execution_count": 42,
   "metadata": {},
   "outputs": [
    {
     "data": {
      "text/plain": [
       "(1.75, 7.0)"
      ]
     },
     "execution_count": 42,
     "metadata": {},
     "output_type": "execute_result"
    }
   ],
   "source": [
    "# these appear to be normal\n",
    "(df_quant_sp['Original_Interest_Rate'].min(),df_quant_sp['Original_Interest_Rate'].max())"
   ]
  },
  {
   "cell_type": "code",
   "execution_count": 43,
   "metadata": {},
   "outputs": [
    {
     "data": {
      "image/png": "[encoded data removed]",
      "text/plain": [
       "<Figure size 1080x1080 with 5 Axes>"
      ]
     },
     "metadata": {
      "needs_background": "light"
     },
     "output_type": "display_data"
    }
   ],
   "source": [
    "fig, ax = plt.subplots(3, 2,figsize=(15,15))\n",
    "fig.delaxes(ax[2,1]) \n",
    "ax[0,0].hist(df_quant_sp['Credit_Score'],bins=50)\n",
    "ax[0,0].title.set_text('Credit Score')\n",
    "ax[0,1].hist(df_quant_sp['Original_Debt-to-Income_DTI_Ratio'],bins=50)\n",
    "ax[0,1].title.set_text('Debt to Income Ratio')\n",
    "ax[1,0].hist(df_quant_sp['Original_Combined_Loan-to-Value_CLTV'],bins=50)\n",
    "ax[1,0].title.set_text('Combined_Loan-to-Value')\n",
    "ax[1,1].hist(df_quant_sp['Original_Loan_Term'],bins=50)\n",
    "ax[1,1].title.set_text('Original Loan Term')\n",
    "ax[2,0].hist(df_quant_sp['Original_Interest_Rate'])\n",
    "ax[2,0].title.set_text('Original Interest Rates')\n",
    "fig.tight_layout()"
   ]
  },
  {
   "cell_type": "markdown",
   "metadata": {},
   "source": [
    "Consider converting Credit Score into a categorical variable: {'High Credit': >800, 'Very Good': 740-799, 'Good': 670-739, 'Fair': 580-669, 'Poor':300-579}"
   ]
  },
  {
   "cell_type": "markdown",
   "metadata": {},
   "source": [
    "### Added categorical on a 4,3,2,1,0 grouping as per indications above --> if we want to pursue this option"
   ]
  },
  {
   "cell_type": "code",
   "execution_count": 44,
   "metadata": {},
   "outputs": [],
   "source": [
    "df2 = df.withColumn('Credit_Score', when(df.Credit_Score >= 800, 4).when((df.Credit_Score < 800)&(df.Credit_Score >= 740),3).\\\n",
    "                    when((df.Credit_Score < 740)&(df.Credit_Score >= 670),2).when((df.Credit_Score < 670)&(df.Credit_Score >= 580),1).\\\n",
    "                    when((df.Credit_Score < 580),0))"
   ]
  },
  {
   "cell_type": "code",
   "execution_count": 45,
   "metadata": {},
   "outputs": [
    {
     "name": "stdout",
     "output_type": "stream",
     "text": [
      "+------------+\n",
      "|Credit_Score|\n",
      "+------------+\n",
      "|           3|\n",
      "|           3|\n",
      "|           3|\n",
      "|           3|\n",
      "|           3|\n",
      "|           3|\n",
      "|           1|\n",
      "|           1|\n",
      "|           3|\n",
      "|           3|\n",
      "+------------+\n",
      "only showing top 10 rows\n",
      "\n"
     ]
    }
   ],
   "source": [
    "df2.select('Credit_Score').show(10)"
   ]
  },
  {
   "cell_type": "code",
   "execution_count": 46,
   "metadata": {},
   "outputs": [],
   "source": [
    "df_credit_grouped = df2.toPandas()"
   ]
  },
  {
   "cell_type": "code",
   "execution_count": 47,
   "metadata": {},
   "outputs": [
    {
     "data": {
      "text/plain": [
       "(array([5.20000e+01, 1.89560e+04, 9.25150e+04, 1.39175e+05, 3.03480e+04]),\n",
       " array([0. , 0.8, 1.6, 2.4, 3.2, 4. ]),\n",
       " <BarContainer object of 5 artists>)"
      ]
     },
     "execution_count": 47,
     "metadata": {},
     "output_type": "execute_result"
    },
    {
     "data": {
      "image/png": "[encoded data removed]",
      "text/plain": [
       "<Figure size 432x288 with 1 Axes>"
      ]
     },
     "metadata": {
      "needs_background": "light"
     },
     "output_type": "display_data"
    }
   ],
   "source": [
    "plt.hist(df_credit_grouped['Credit_Score'],bins=5)"
   ]
  },
  {
   "cell_type": "code",
   "execution_count": 48,
   "metadata": {},
   "outputs": [
    {
     "data": {
      "text/plain": [
       "0         3\n",
       "1         3\n",
       "2         3\n",
       "3         3\n",
       "4         3\n",
       "         ..\n",
       "281041    2\n",
       "281042    4\n",
       "281043    3\n",
       "281044    3\n",
       "281045    2\n",
       "Name: Credit_Score, Length: 281046, dtype: int32"
      ]
     },
     "execution_count": 48,
     "metadata": {},
     "output_type": "execute_result"
    }
   ],
   "source": [
    "df_credit_grouped[\"Credit_Score\"]"
   ]
  },
  {
   "cell_type": "code",
   "execution_count": 49,
   "metadata": {},
   "outputs": [
    {
     "data": {
      "text/plain": [
       "array([[<AxesSubplot:title={'center':'Current_Interest_Rate'}>,\n",
       "        <AxesSubplot:title={'center':'Loan_Age'}>],\n",
       "       [<AxesSubplot:title={'center':'Remaining_Months_to_Legal_Maturity'}>,\n",
       "        <AxesSubplot:>]], dtype=object)"
      ]
     },
     "execution_count": 49,
     "metadata": {},
     "output_type": "execute_result"
    },
    {
     "data": {
      "image/png": "[encoded data removed]",
      "text/plain": [
       "<Figure size 432x288 with 4 Axes>"
      ]
     },
     "metadata": {
      "needs_background": "light"
     },
     "output_type": "display_data"
    },
    {
     "data": {
      "image/png": "[encoded data removed]",
      "text/plain": [
       "<Figure size 432x288 with 4 Axes>"
      ]
     },
     "metadata": {
      "needs_background": "light"
     },
     "output_type": "display_data"
    },
    {
     "data": {
      "image/png": "[encoded data removed]",
      "text/plain": [
       "<Figure size 432x288 with 4 Axes>"
      ]
     },
     "metadata": {
      "needs_background": "light"
     },
     "output_type": "display_data"
    },
    {
     "data": {
      "image/png": "[encoded data removed]",
      "text/plain": [
       "<Figure size 432x288 with 4 Axes>"
      ]
     },
     "metadata": {
      "needs_background": "light"
     },
     "output_type": "display_data"
    }
   ],
   "source": [
    "#Histogram of Original Interest Rate and Loan Age\n",
    "#Have to sample because dataframe is too big\n",
    "#They all look similar so this should be a representative sample.\n",
    "df_perf_quant.sample(fraction=0.1, seed=314).toPandas().hist()\n",
    "\n",
    "df_perf_quant.sample(fraction=0.1, seed=628).toPandas().hist()\n",
    "\n",
    "df_perf_quant.sample(fraction=0.1, seed=10).toPandas().hist()\n",
    "\n",
    "df_perf_quant.sample(fraction=0.1, seed=3).toPandas().hist()"
   ]
  },
  {
   "cell_type": "markdown",
   "metadata": {},
   "source": [
    "## Clean Performance File\n",
    "\n",
    "Loans have multiple records for each payment period.\n",
    "\n",
    "A single loan could potentially have mutliple current and/or delinquent records."
   ]
  },
  {
   "cell_type": "code",
   "execution_count": 27,
   "metadata": {},
   "outputs": [
    {
     "name": "stdout",
     "output_type": "stream",
     "text": [
      "+------------------------+-------------------------------+---------------------------+--------------+---------------+\n",
      "|Monthly_Reporting_Period|Monthly_Reporting_Period_TS_num|Monthly_Reporting_Period_TS|Reporting_Year|Reporting_Month|\n",
      "+------------------------+-------------------------------+---------------------------+--------------+---------------+\n",
      "|                  201904|                     1554076800|        2019-04-01 00:00:00|          2019|              4|\n",
      "|                  201905|                     1556668800|        2019-05-01 00:00:00|          2019|              5|\n",
      "|                  201906|                     1559347200|        2019-06-01 00:00:00|          2019|              6|\n",
      "|                  201907|                     1561939200|        2019-07-01 00:00:00|          2019|              7|\n",
      "|                  201908|                     1564617600|        2019-08-01 00:00:00|          2019|              8|\n",
      "+------------------------+-------------------------------+---------------------------+--------------+---------------+\n",
      "only showing top 5 rows\n",
      "\n"
     ]
    }
   ],
   "source": [
    "# Convert to Date Types (needs to be StringType first)\n",
    "df_perf = df_perf.withColumn('Monthly_Reporting_Period_TS', to_timestamp(col('Monthly_Reporting_Period'), 'yyyyMM'))\n",
    "df_perf = df_perf.withColumn('Monthly_Reporting_Period_TS_num', df_perf['Monthly_Reporting_Period_TS'].cast(IntegerType()))\n",
    "df_perf = df_perf.withColumn('Reporting_Year', year('Monthly_Reporting_Period_TS'))\n",
    "df_perf = df_perf.withColumn('Reporting_Month', month('Monthly_Reporting_Period_TS'))\n",
    "\n",
    "df_perf.select('Monthly_Reporting_Period', 'Monthly_Reporting_Period_TS_num', \"Monthly_Reporting_Period_TS\", 'Reporting_Year', 'Reporting_Month').show(5)"
   ]
  },
  {
   "cell_type": "code",
   "execution_count": 10,
   "metadata": {},
   "outputs": [
    {
     "data": {
      "text/plain": [
       "1040838"
      ]
     },
     "execution_count": 10,
     "metadata": {},
     "output_type": "execute_result"
    }
   ],
   "source": [
    "# Filter for only delinquent loans\n",
    "df_perf_delinq = df_perf.filter(df_perf.Current_Loan_Delinquency_Status_Cat!=\"0\")\n",
    "df_perf_delinq.count()"
   ]
  },
  {
   "cell_type": "markdown",
   "metadata": {},
   "source": [
    "There are over 1 million payment periods where a loan is delinquent."
   ]
  },
  {
   "cell_type": "code",
   "execution_count": 42,
   "metadata": {},
   "outputs": [],
   "source": [
    "# Take the first reporting period that a loan was marked delinquent\n",
    "df_perf_delinq_min = df_perf_delinq.select(\"Loan_Sequence_Number\",\"Monthly_Reporting_Period_TS\",\"Monthly_Reporting_Period_TS_num\").groupBy(\"Loan_Sequence_Number\").min(\"Monthly_Reporting_Period_TS_num\").alias(\"Monthly_Reporting_Period_TS_num\")\n",
    "df_perf_delinq_min = df_perf_delinq_min.select(df_perf_delinq_min.Loan_Sequence_Number, df_perf_delinq_min[\"min(Monthly_Reporting_Period_TS_num)\"].alias(\"Monthly_Reporting_Period_TS_num\"))\n",
    "df_perf_delinq_min = df_perf.join(broadcast(df_perf_delinq_min), ['Loan_Sequence_Number', 'Monthly_Reporting_Period_TS_num'], \"inner\") \\\n",
    "    .drop('Current_Actual_UPB', 'Current_Loan_Delinquency_Status', 'Loan_Age', 'Remaining_Months_to_Legal_Maturity', 'Repurchase_Flag', 'Modification_Flag', 'Zero_Balance_Code', 'Zero_Balance_Effective_Date', 'Current_Interest_Rate', 'Current_Deferred_UPB', 'Due_Date_of_Last_Paid_Installment (DDLPI)', 'MI Recoveries', 'Net_Sales_Proceeds', 'Non MI Recoveries', 'Expenses', 'Legal_Costs', 'Maintenance_and_Preservation_Costs', 'Taxes_and_Insurance', 'Miscellaneous_Expenses', 'Actual_Loss_Calculation', 'Modification_Cost',  'Step_Modification_Flag', 'Deferred_Payment_Plan', 'Estimated_Loan_to_Value', 'Zero_Balance_Removal_UPB', 'Delinquent_Accrued_Interest', 'Delinquency_Due_to_Disaster', 'Borrower_Assistance_Status_Code', 'Current_Month_Modification_Cost', 'Current_Loan_Delinquency_Status_Cat', 'Reporting_Year', 'Reporting_Month')"
   ]
  },
  {
   "cell_type": "code",
   "execution_count": 41,
   "metadata": {},
   "outputs": [
    {
     "name": "stdout",
     "output_type": "stream",
     "text": [
      "+--------------------+-------------------------------+---------------------------+\n",
      "|Loan_Sequence_Number|Monthly_Reporting_Period_TS_num|Monthly_Reporting_Period_TS|\n",
      "+--------------------+-------------------------------+---------------------------+\n",
      "|        F19Q10000009|                     1569888000|        2019-10-01 00:00:00|\n",
      "|        F19Q10000033|                     1585699200|        2020-04-01 00:00:00|\n",
      "|        F19Q10000040|                     1567296000|        2019-09-01 00:00:00|\n",
      "|        F19Q10000044|                     1612137600|        2021-02-01 00:00:00|\n",
      "|        F19Q10000049|                     1585699200|        2020-04-01 00:00:00|\n",
      "+--------------------+-------------------------------+---------------------------+\n",
      "only showing top 5 rows\n",
      "\n"
     ]
    }
   ],
   "source": [
    "df_perf_delinq_min.show(5)"
   ]
  },
  {
   "cell_type": "code",
   "execution_count": 11,
   "metadata": {},
   "outputs": [
    {
     "data": {
      "text/plain": [
       "259375"
      ]
     },
     "execution_count": 11,
     "metadata": {},
     "output_type": "execute_result"
    }
   ],
   "source": [
    "# Take the most recent reporting period for each delinquent loan\n",
    "df_perf_delinq = df_perf_delinq.groupBy(\"Loan_Sequence_Number\").max(\"Monthly_Reporting_Period_TS_num\").alias(\"Monthly_Reporting_Period_TS_num\")\n",
    "df_perf_delinq = df_perf_delinq.select(df_perf_delinq.Loan_Sequence_Number, df_perf_delinq[\"max(Monthly_Reporting_Period_TS_num)\"].alias(\"Monthly_Reporting_Period_TS_num\"))\n"
   ]
  },
  {
   "cell_type": "code",
   "execution_count": null,
   "metadata": {},
   "outputs": [],
   "source": [
    "df_perf_delinq.count()"
   ]
  },
  {
   "cell_type": "code",
   "execution_count": 18,
   "metadata": {},
   "outputs": [],
   "source": [
    "df_perf_delinq_all = df_perf.join(broadcast(df_perf_delinq), ['Loan_Sequence_Number', 'Monthly_Reporting_Period_TS_num'], \"inner\") \\\n",
    "    .drop(\"Monthly_Reporting_Period_TS\",\"Monthly_Reporting_Period_TS_num\",\"Reporting_Year\",\"Reporting_Month\",\"Current_Actual_UPB\",\"Repurchase_Flag\",\"Zero_Balance_Code\",\n",
    "          \"Zero_Balance_Effective_Date\",\"Current_Deferred_UPB\",\"Due_Date_of_Last_Paid_Installment (DDLPI)\",\"MI Recoveries\",\"Expenses\",\"Legal_Costs\",\"Maintenance_and_Preservation_Costs\",\n",
    "         \"Taxes_and_Insurance\",\"Miscellaneous_Expenses\",\"Modification_Cost\",\"Step_Modification_Flag\",\"Deferred_Payment_Plan\",\"Estimated_Loan_to_Value\",\n",
    "         \"Zero_Balance_Removal_UPB\",\"Delinquency_Due_to_Disaster\",\"Borrower_Assistance_Status_Code\",\"Current_Month_Modification_Cost\",\"Net_Sales_Proceeds\",\n",
    "         \"Non MI Recoveries\")\n",
    "df_perf_delinq_all.cache()"
   ]
  },
  {
   "cell_type": "code",
   "execution_count": null,
   "metadata": {},
   "outputs": [],
   "source": [
    "df_perf_delinq_all.count()"
   ]
  },
  {
   "cell_type": "markdown",
   "metadata": {},
   "source": [
    "Those 1,040,838 delinquent periods are related to 259,375 distinct loans. "
   ]
  },
  {
   "cell_type": "code",
   "execution_count": 14,
   "metadata": {},
   "outputs": [],
   "source": [
    "df_perf_newest_loan = df_perf.groupBy(\"Loan_Sequence_Number\").max(\"Monthly_Reporting_Period_TS_num\")\n",
    "df_perf_newest_loan = df_perf_newest_loan.select(df_perf_newest_loan.Loan_Sequence_Number, df_perf_newest_loan[\"max(Monthly_Reporting_Period_TS_num)\"].alias(\"Monthly_Reporting_Period_TS_num\"))\n"
   ]
  },
  {
   "cell_type": "code",
   "execution_count": 48,
   "metadata": {},
   "outputs": [
    {
     "data": {
      "text/plain": [
       "4413774"
      ]
     },
     "execution_count": 48,
     "metadata": {},
     "output_type": "execute_result"
    }
   ],
   "source": [
    "df_perf_newest_loan.count()"
   ]
  },
  {
   "cell_type": "code",
   "execution_count": 19,
   "metadata": {},
   "outputs": [
    {
     "data": {
      "text/plain": [
       "DataFrame[Loan_Sequence_Number: string, Monthly_Reporting_Period: string, Current_Loan_Delinquency_Status: string, Loan_Age: int, Remaining_Months_to_Legal_Maturity: int, Modification_Flag: string, Current_Interest_Rate: float, Actual_Loss_Calculation: int, Delinquent_Accrued_Interest: int, Current_Loan_Delinquency_Status_Cat: string]"
      ]
     },
     "execution_count": 19,
     "metadata": {},
     "output_type": "execute_result"
    }
   ],
   "source": [
    "df_perf_newest_loan_all = df_perf.join(df_perf_newest_loan, ['Loan_Sequence_Number', 'Monthly_Reporting_Period_TS_num'], \"inner\") \\\n",
    "    .drop(\"Monthly_Reporting_Period_TS\",\"Monthly_Reporting_Period_TS_num\",\"Reporting_Year\",\"Reporting_Month\",\"Current_Actual_UPB\",\"Repurchase_Flag\",\"Zero_Balance_Code\",\n",
    "          \"Zero_Balance_Effective_Date\",\"Current_Deferred_UPB\",\"Due_Date_of_Last_Paid_Installment (DDLPI)\",\"MI Recoveries\",\"Expenses\",\"Legal_Costs\",\"Maintenance_and_Preservation_Costs\",\n",
    "         \"Taxes_and_Insurance\",\"Miscellaneous_Expenses\",\"Modification_Cost\",\"Step_Modification_Flag\",\"Deferred_Payment_Plan\",\"Estimated_Loan_to_Value\",\n",
    "         \"Zero_Balance_Removal_UPB\",\"Delinquency_Due_to_Disaster\",\"Borrower_Assistance_Status_Code\",\"Current_Month_Modification_Cost\",\"Net_Sales_Proceeds\",\n",
    "         \"Non MI Recoveries\")\n",
    "df_perf_newest_loan_all.cache()\n"
   ]
  },
  {
   "cell_type": "code",
   "execution_count": 49,
   "metadata": {},
   "outputs": [
    {
     "data": {
      "text/plain": [
       "4413774"
      ]
     },
     "execution_count": 49,
     "metadata": {},
     "output_type": "execute_result"
    }
   ],
   "source": [
    "df_perf_newest_loan_all.count()"
   ]
  },
  {
   "cell_type": "markdown",
   "metadata": {},
   "source": [
    "Total distinct loans of over 4.4 million. So the delinquency rate is approximately 5.9%."
   ]
  },
  {
   "cell_type": "code",
   "execution_count": 16,
   "metadata": {},
   "outputs": [],
   "source": [
    "#df_perf.select(\"Loan_Sequence_Number\").distinct().count()\n",
    "#4413774"
   ]
  },
  {
   "cell_type": "code",
   "execution_count": 17,
   "metadata": {},
   "outputs": [
    {
     "data": {
      "text/plain": [
       "True"
      ]
     },
     "execution_count": 17,
     "metadata": {},
     "output_type": "execute_result"
    }
   ],
   "source": [
    "df_perf_delinq_all.columns == df_perf_newest_loan_all.columns"
   ]
  },
  {
   "cell_type": "code",
   "execution_count": 15,
   "metadata": {},
   "outputs": [
    {
     "data": {
      "text/plain": [
       "['Loan_Sequence_Number',\n",
       " 'Monthly_Reporting_Period',\n",
       " 'Current_Loan_Delinquency_Status',\n",
       " 'Loan_Age',\n",
       " 'Remaining_Months_to_Legal_Maturity',\n",
       " 'Modification_Flag',\n",
       " 'Current_Interest_Rate',\n",
       " 'Actual_Loss_Calculation',\n",
       " 'Delinquent_Accrued_Interest',\n",
       " 'Current_Loan_Delinquency_Status_Cat']"
      ]
     },
     "execution_count": 15,
     "metadata": {},
     "output_type": "execute_result"
    }
   ],
   "source": [
    "df_perf_newest_loan_all.columns"
   ]
  },
  {
   "cell_type": "code",
   "execution_count": 20,
   "metadata": {},
   "outputs": [],
   "source": [
    "deliq_Loan_Num = df_perf_delinq_all.select(collect_list(\"Loan_Sequence_Number\")).first()[0]\n",
    "delinq_Loan_Num.cache()"
   ]
  },
  {
   "cell_type": "code",
   "execution_count": 21,
   "metadata": {},
   "outputs": [
    {
     "data": {
      "text/plain": [
       "DataFrame[Loan_Sequence_Number: string, Monthly_Reporting_Period: string, Current_Loan_Delinquency_Status: string, Loan_Age: int, Remaining_Months_to_Legal_Maturity: int, Modification_Flag: string, Current_Interest_Rate: float, Actual_Loss_Calculation: int, Delinquent_Accrued_Interest: int, Current_Loan_Delinquency_Status_Cat: string]"
      ]
     },
     "execution_count": 21,
     "metadata": {},
     "output_type": "execute_result"
    }
   ],
   "source": [
    "#Filter out all the Loan Numbers that have been identified as delinquent\n",
    "df_perf_current = df_perf_newest_loan_all.filter(~df_perf_newest_loan_all.Loan_Sequence_Number.isin(deliq_Loan_Num))\n",
    "df_perf_current.cache()\n"
   ]
  },
  {
   "cell_type": "code",
   "execution_count": 50,
   "metadata": {},
   "outputs": [
    {
     "data": {
      "text/plain": [
       "4154399"
      ]
     },
     "execution_count": 50,
     "metadata": {},
     "output_type": "execute_result"
    }
   ],
   "source": [
    "df_perf_current.count()"
   ]
  },
  {
   "cell_type": "code",
   "execution_count": 21,
   "metadata": {},
   "outputs": [
    {
     "data": {
      "text/plain": [
       "4154399"
      ]
     },
     "execution_count": 21,
     "metadata": {},
     "output_type": "execute_result"
    }
   ],
   "source": [
    "4413774-259375"
   ]
  },
  {
   "cell_type": "code",
   "execution_count": 22,
   "metadata": {},
   "outputs": [
    {
     "data": {
      "text/plain": [
       "DataFrame[Loan_Sequence_Number: string, Monthly_Reporting_Period: string, Current_Loan_Delinquency_Status: string, Loan_Age: int, Remaining_Months_to_Legal_Maturity: int, Modification_Flag: string, Current_Interest_Rate: float, Actual_Loss_Calculation: int, Delinquent_Accrued_Interest: int, Current_Loan_Delinquency_Status_Cat: string]"
      ]
     },
     "execution_count": 22,
     "metadata": {},
     "output_type": "execute_result"
    }
   ],
   "source": [
    "# Union of most recent records for delinquent and current loans\n",
    "df_perf_clean = df_perf_current.union(df_perf_delinq_all)\n",
    "df_perf_clean.cache()"
   ]
  },
  {
   "cell_type": "code",
   "execution_count": 19,
   "metadata": {},
   "outputs": [
    {
     "data": {
      "text/plain": [
       "['Loan_Sequence_Number',\n",
       " 'Monthly_Reporting_Period',\n",
       " 'Current_Loan_Delinquency_Status',\n",
       " 'Loan_Age',\n",
       " 'Remaining_Months_to_Legal_Maturity',\n",
       " 'Modification_Flag',\n",
       " 'Current_Interest_Rate',\n",
       " 'Actual_Loss_Calculation',\n",
       " 'Delinquent_Accrued_Interest',\n",
       " 'Current_Loan_Delinquency_Status_Cat']"
      ]
     },
     "execution_count": 19,
     "metadata": {},
     "output_type": "execute_result"
    }
   ],
   "source": [
    "df_perf_clean.columns"
   ]
  },
  {
   "cell_type": "code",
   "execution_count": 31,
   "metadata": {},
   "outputs": [
    {
     "data": {
      "text/plain": [
       "4413774"
      ]
     },
     "execution_count": 31,
     "metadata": {},
     "output_type": "execute_result"
    }
   ],
   "source": [
    "df_perf_clean.count()"
   ]
  },
  {
   "cell_type": "code",
   "execution_count": 23,
   "metadata": {},
   "outputs": [
    {
     "data": {
      "text/plain": [
       "DataFrame[Current_Loan_Delinquency_Status_Cat: string, Current_Loan_Delinquency_Status_count: bigint, Percent: double]"
      ]
     },
     "execution_count": 23,
     "metadata": {},
     "output_type": "execute_result"
    }
   ],
   "source": [
    "# Calculate ratio of delinquency vs. current in clean data set\n",
    "df_perf_clean.groupBy(\"Current_Loan_Delinquency_Status_Cat\").agg(F.count('Current_Loan_Delinquency_Status_Cat').alias(\"Current_Loan_Delinquency_Status_count\")).\\\n",
    "                withColumn(\"Percent\", col('Current_Loan_Delinquency_Status_count')/total*100)"
   ]
  },
  {
   "cell_type": "code",
   "execution_count": 42,
   "metadata": {},
   "outputs": [],
   "source": [
    "#Remove outliers in data.\n",
    "df_orig = df_orig[~(df_orig.Credit_Score > 850)]\n",
    "df_orig = df_orig[~(df_orig['Original_Debt-to-Income_DTI_Ratio'] > 100)]\n",
    "df_orig = df_orig[~(df_orig['Original_Combined_Loan-to-Value_CLTV'] > 500)]\n"
   ]
  },
  {
   "cell_type": "code",
   "execution_count": 43,
   "metadata": {},
   "outputs": [],
   "source": [
    "#joining dataframes.\n",
    "df_full = df_orig.join(df_perf_clean, [\"Loan_Sequence_Number\"],'inner')"
   ]
  },
  {
   "cell_type": "code",
   "execution_count": 44,
   "metadata": {},
   "outputs": [
    {
     "name": "stdout",
     "output_type": "stream",
     "text": [
      "4411156 40\n"
     ]
    }
   ],
   "source": [
    "#Total size of full dataframe\n",
    "total = df_full.count()\n",
    "print(total, len(df_full.columns))"
   ]
  },
  {
   "cell_type": "code",
   "execution_count": 51,
   "metadata": {},
   "outputs": [
    {
     "name": "stdout",
     "output_type": "stream",
     "text": [
      "0\n",
      "Total % dropped 0.0\n"
     ]
    }
   ],
   "source": [
    "#Check for duplicate rows in full dataframe\n",
    "df_test = df_full.groupBy(\"Loan_Sequence_Number\").count().filter(\"count > 1\")\n",
    "\n",
    "#Should we drop these? 0% are dupicate Loan numbers.\n",
    "x = df_test.drop('count').count()\n",
    "print(x)\n",
    "print(\"Total % dropped \" + str(x/total*100))"
   ]
  },
  {
   "cell_type": "markdown",
   "metadata": {},
   "source": [
    "### Is there a change in interest rate, if so how has it changed?"
   ]
  },
  {
   "cell_type": "code",
   "execution_count": 45,
   "metadata": {},
   "outputs": [],
   "source": [
    "#numeric interest rate change\n",
    "df_full = df_full.withColumn(\"Change_of_Interest_Rate\", df_full.Original_Interest_Rate-df_full.Current_Interest_Rate)"
   ]
  },
  {
   "cell_type": "code",
   "execution_count": 52,
   "metadata": {},
   "outputs": [
    {
     "name": "stdout",
     "output_type": "stream",
     "text": [
      "+-------+-----------------------+\n",
      "|summary|Change_of_Interest_Rate|\n",
      "+-------+-----------------------+\n",
      "|  count|                4411156|\n",
      "|   mean|   1.765351297118605E-4|\n",
      "| stddev|   0.016912036005392105|\n",
      "|    min|                 -0.125|\n",
      "|    25%|                    0.0|\n",
      "|    50%|                    0.0|\n",
      "|    75%|                    0.0|\n",
      "|    max|                  3.625|\n",
      "+-------+-----------------------+\n",
      "\n"
     ]
    }
   ],
   "source": [
    "#most loans don't have a change in interest rate\n",
    "Interest_Rate_Changed_num = df_full\n",
    "Change_of_Interest_Rate= Interest_Rate_Changed_num.select('Change_of_Interest_Rate')\n",
    "Change_of_Interest_Rate.summary().show()"
   ]
  },
  {
   "cell_type": "code",
   "execution_count": 53,
   "metadata": {},
   "outputs": [
    {
     "name": "stdout",
     "output_type": "stream",
     "text": [
      "+-------+-----------------------+\n",
      "|summary|Change_of_Interest_Rate|\n",
      "+-------+-----------------------+\n",
      "|  count|                    560|\n",
      "|   mean|     1.3905785654272351|\n",
      "| stddev|     0.5657577206863769|\n",
      "|    min|                 -0.125|\n",
      "|    25%|                    1.0|\n",
      "|    50%|                  1.375|\n",
      "|    75%|                   1.75|\n",
      "|    max|                  3.625|\n",
      "+-------+-----------------------+\n",
      "\n"
     ]
    }
   ],
   "source": [
    "#filter out 0\n",
    "Interest_Rate_Changed_num = Interest_Rate_Changed_num.filter(Interest_Rate_Changed_num.Change_of_Interest_Rate != 0)\n",
    "Change_of_Interest_Rate= Interest_Rate_Changed_num.select('Change_of_Interest_Rate')\n",
    "Change_of_Interest_Rate.summary().show()"
   ]
  },
  {
   "cell_type": "code",
   "execution_count": 72,
   "metadata": {},
   "outputs": [
    {
     "data": {
      "text/plain": [
       "array([[<AxesSubplot:title={'center':'Change_of_Interest_Rate'}>]],\n",
       "      dtype=object)"
      ]
     },
     "execution_count": 72,
     "metadata": {},
     "output_type": "execute_result"
    },
    {
     "data": {
      "image/png": "[encoded data removed]",
      "text/plain": [
       "<Figure size 432x288 with 1 Axes>"
      ]
     },
     "metadata": {
      "needs_background": "light"
     },
     "output_type": "display_data"
    }
   ],
   "source": [
    "#Histogram of Change of Interest Rate with 0 filtered out.\n",
    "Change_of_Interest_Rate.toPandas().hist()"
   ]
  },
  {
   "cell_type": "markdown",
   "metadata": {},
   "source": [
    "Put these variables into a df to save.\n",
    "\n",
    "Response: Current_Loan_Delinquency_Status\n",
    "\n",
    "Predictors:\n",
    "\n",
    "Origination Data File:\n",
    "\n",
    "Credit_Score\n",
    "\n",
    "First_Time_Homebuyer_Flag\n",
    "\n",
    "Occupancy_Status\n",
    "\n",
    "Original_Combined_Loan-to-Value_CLTV\n",
    "\n",
    "Original_Debt-to-Income_DTI_Ratio\n",
    "\n",
    "Original_Interest_Rate\n",
    "\n",
    "Loan_Purpose\n",
    "\n",
    "Original_Loan_Term\n",
    "\n",
    "Number_of_Borrowers\n",
    "\n",
    "Monthly perfomance data files:\n",
    "\n",
    "Loan_Age\n",
    "\n",
    "Remaining_Months_to_Legal_Maturity\n",
    "\n",
    "Actual_Loss_Calculation\n",
    "\n",
    "Delinquent_Accrued_Interest\n",
    "\n",
    "Modification_Flag\n",
    "\n",
    "Change_of_Interest_Rate -- Change to difference in interest rate."
   ]
  },
  {
   "cell_type": "code",
   "execution_count": 46,
   "metadata": {},
   "outputs": [],
   "source": [
    "col_lis= [\"Current_Loan_Delinquency_Status\", \"Current_Loan_Delinquency_Status_Cat\", \"Credit_Score\", \"First_Time_Homebuyer_Flag\", \"Occupancy_Status\", \"Original_Combined_Loan-to-Value_CLTV\",\n",
    "          \"Original_Debt-to-Income_DTI_Ratio\", \"Original_Interest_Rate\", \"Loan_Purpose\", \"Original_Loan_Term\", \"Number_of_Borrowers\", \"Loan_Age\", 'Actual_Loss_Calculation',\"Delinquent_Accrued_Interest\", \"Remaining_Months_to_Legal_Maturity\",\n",
    "         \"Modification_Flag\", \"Change_of_Interest_Rate\"]\n",
    "df_model_1 = df_full.select(*col_lis)\n"
   ]
  },
  {
   "cell_type": "code",
   "execution_count": 47,
   "metadata": {},
   "outputs": [],
   "source": [
    "#Write df into a file.\n",
    "df_model_1.write.mode('overwrite').parquet(\"/project/ds5559/Group_6_Housing/DS-5110-Final-Project/df_model_1.parquet\")"
   ]
  },
  {
   "cell_type": "code",
   "execution_count": 74,
   "metadata": {},
   "outputs": [
    {
     "name": "stdout",
     "output_type": "stream",
     "text": [
      "+------------------+-------------------+------------------+-------------------+\n",
      "|First_Payment_Date|   First_Payment_TS|First_Payment_Year|First_Payment_Month|\n",
      "+------------------+-------------------+------------------+-------------------+\n",
      "|            201905|2019-05-01 00:00:00|              2019|                  5|\n",
      "|            201905|2019-05-01 00:00:00|              2019|                  5|\n",
      "|            201903|2019-03-01 00:00:00|              2019|                  3|\n",
      "|            201904|2019-04-01 00:00:00|              2019|                  4|\n",
      "|            201903|2019-03-01 00:00:00|              2019|                  3|\n",
      "+------------------+-------------------+------------------+-------------------+\n",
      "only showing top 5 rows\n",
      "\n"
     ]
    }
   ],
   "source": [
    "# Convert to Date Types (needs to be StringType first)\n",
    "df_orig = df_orig.withColumn('First_Payment_TS', to_timestamp(col('First_Payment_Date'), 'yyyyMM'))\n",
    "df_orig = df_orig.withColumn('First_Payment_Year', year('First_Payment_TS'))\n",
    "df_orig = df_orig.withColumn('First_Payment_Month', month('First_Payment_TS'))\n",
    "\n",
    "df_orig.select('First_Payment_Date', 'First_Payment_TS', 'First_Payment_Year', 'First_Payment_Month').show(5)"
   ]
  },
  {
   "cell_type": "code",
   "execution_count": 75,
   "metadata": {},
   "outputs": [],
   "source": [
    "# number loans originated each month\n",
    "df_orig_TS = df_orig.select('First_Payment_TS').groupBy('First_Payment_TS').count().orderBy('First_Payment_TS').toPandas()"
   ]
  },
  {
   "cell_type": "code",
   "execution_count": 76,
   "metadata": {},
   "outputs": [
    {
     "data": {
      "image/png": "[encoded data removed]",
      "text/plain": [
       "<Figure size 432x288 with 1 Axes>"
      ]
     },
     "metadata": {
      "needs_background": "light"
     },
     "output_type": "display_data"
    }
   ],
   "source": [
    "# Graph\n",
    "df_orig_TS.plot(x='First_Payment_TS', y='count')\n",
    "plt.title('Loan Originations from Q1 2019 to Q3 2020')\n",
    "plt.show()"
   ]
  },
  {
   "cell_type": "markdown",
   "metadata": {},
   "source": [
    "New loans decline in the beginning of 2020 until May, then rapidly increase to new highs."
   ]
  },
  {
   "cell_type": "code",
   "execution_count": 77,
   "metadata": {},
   "outputs": [],
   "source": [
    "# Group by state\n",
    "df_orig_state = df_orig.select('Property_State').groupBy('Property_State').count().orderBy('count', ascending=False).toPandas()"
   ]
  },
  {
   "cell_type": "code",
   "execution_count": 78,
   "metadata": {},
   "outputs": [
    {
     "data": {
      "image/png": "[encoded data removed]",
      "text/plain": [
       "<Figure size 864x720 with 1 Axes>"
      ]
     },
     "metadata": {
      "needs_background": "light"
     },
     "output_type": "display_data"
    }
   ],
   "source": [
    "\n",
    "from matplotlib.pyplot import figure\n",
    "\n",
    "# Bar graph\n",
    "df_orig_state.plot(kind='bar', x='Property_State', y='count',figsize=(12, 10))\n",
    "\n",
    "plt.title('Loan Originations by State from Q1 2019 to Q3 2020')\n",
    "plt.tick_params(axis='x', which='major', labelsize=10)\n",
    "plt.tight_layout()\n",
    "plt.show()"
   ]
  },
  {
   "cell_type": "markdown",
   "metadata": {},
   "source": [
    "California, Texas, and Florida are the 3 highest states for loan originations. \n",
    "\n",
    "Where does New York rank?"
   ]
  },
  {
   "cell_type": "code",
   "execution_count": 79,
   "metadata": {},
   "outputs": [],
   "source": [
    "# Combine time and state for top 3 states\n",
    "df_orig_grouped = df_orig.select('First_Payment_TS', 'Property_State')\\\n",
    "    .where((col('Property_State')=='CA')|(col('Property_State')=='TX')|(col('Property_State')=='FL')|(col('Property_State')=='NY'))\\\n",
    "    .groupBy('Property_State','First_Payment_TS')\\\n",
    "    .count()\\\n",
    "    .orderBy('First_Payment_TS').toPandas()"
   ]
  },
  {
   "cell_type": "markdown",
   "metadata": {},
   "source": [
    "High loan origination at the new year in 2021!"
   ]
  },
  {
   "cell_type": "code",
   "execution_count": 80,
   "metadata": {},
   "outputs": [
    {
     "data": {
      "image/png": "[encoded data removed]",
      "text/plain": [
       "<Figure size 432x288 with 1 Axes>"
      ]
     },
     "metadata": {
      "needs_background": "light"
     },
     "output_type": "display_data"
    }
   ],
   "source": [
    "fig,ax = plt.subplots()\n",
    "for k,v in df_orig_grouped.groupby('Property_State'):\n",
    "    v.plot(x='First_Payment_TS',y='count', ax=ax,label=k)\n",
    "\n",
    "plt.title('Loan Origination by State')\n",
    "plt.show()"
   ]
  },
  {
   "cell_type": "code",
   "execution_count": 50,
   "metadata": {},
   "outputs": [],
   "source": [
    "# number loans originated each month\n",
    "df_delinq_TS = df_perf_delinq_min.select('Monthly_Reporting_Period_TS').groupBy('Monthly_Reporting_Period_TS').count().orderBy('Monthly_Reporting_Period_TS').toPandas()"
   ]
  },
  {
   "cell_type": "code",
   "execution_count": null,
   "metadata": {},
   "outputs": [],
   "source": [
    "df_delinq_TS.head(5)"
   ]
  },
  {
   "cell_type": "code",
   "execution_count": 51,
   "metadata": {},
   "outputs": [
    {
     "data": {
      "image/png": "[encoded data removed]",
      "text/plain": [
       "<Figure size 432x288 with 1 Axes>"
      ]
     },
     "metadata": {
      "needs_background": "light"
     },
     "output_type": "display_data"
    }
   ],
   "source": [
    "# Graph\n",
    "df_delinq_TS.plot(x='Monthly_Reporting_Period_TS', y='count')\n",
    "plt.title('Loan Delinquency from Q1 2019 to Q3 2020')\n",
    "plt.show()"
   ]
  },
  {
   "cell_type": "code",
   "execution_count": 48,
   "metadata": {},
   "outputs": [],
   "source": [
    "df_perf_period=df_perf_delinq_min.select('Monthly_Reporting_Period').groupBy('Monthly_Reporting_Period').count().orderBy('count', ascending=False).toPandas()"
   ]
  },
  {
   "cell_type": "code",
   "execution_count": 49,
   "metadata": {},
   "outputs": [
    {
     "data": {
      "image/png": "[encoded data removed]",
      "text/plain": [
       "<Figure size 648x432 with 1 Axes>"
      ]
     },
     "metadata": {
      "needs_background": "light"
     },
     "output_type": "display_data"
    }
   ],
   "source": [
    "# Bar graph\n",
    "df_perf_period.plot(kind='bar', x='Monthly_Reporting_Period', y='count',figsize=(9, 6))\n",
    "\n",
    "plt.title('Loan Delinquencies from Q1 2019 to Q3 2020')\n",
    "plt.tick_params(axis='x', which='major', labelsize=10)\n",
    "plt.tight_layout()\n",
    "plt.show()"
   ]
  },
  {
   "cell_type": "markdown",
   "metadata": {},
   "source": [
    "Loan delinquencies increased in April, May, and June 2020, during the early portions of Covid-19."
   ]
  },
  {
   "cell_type": "markdown",
   "metadata": {},
   "source": [
    "How to calculate loan delinquency rate over time?\n",
    "\n",
    " - Loans from an origination First_Payment period that became delinquent in a Monthly_Reporting_Period\n",
    " \n",
    "Should we split the data for model building for pre-pandemic?"
   ]
  },
  {
   "cell_type": "code",
   "execution_count": null,
   "metadata": {},
   "outputs": [],
   "source": []
  }
 ],
 "metadata": {
  "kernelspec": {
   "display_name": "DS 5110 Spark 3.1",
   "language": "python",
   "name": "ds5110_spark3.1"
  },
  "language_info": {
   "codemirror_mode": {
    "name": "ipython",
    "version": 3
   },
   "file_extension": ".py",
   "mimetype": "text/x-python",
   "name": "python",
   "nbconvert_exporter": "python",
   "pygments_lexer": "ipython3",
   "version": "3.7.10"
  }
 },
 "nbformat": 4,
 "nbformat_minor": 4
}
