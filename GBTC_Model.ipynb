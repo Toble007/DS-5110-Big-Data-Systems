{
 "cells": [
  {
   "cell_type": "markdown",
   "metadata": {},
   "source": [
    "# Freddie Mac Mortgage Data\n",
    "\n",
    "### Pipeline\n",
    "\n",
    "Thomas Butler, Andrej Erkelens, Matt Suozzi\n",
    "\n",
    "labelCol: Delinquency Status\n",
    "\n",
    "- Downsample and Split train and test data\n",
    "- StringIndexer and OneHotEncoder for categorical features\n",
    "- VectorAssembler of numerical features\n",
    "- StandardScalar to scale features (if necessary)\n",
    "- Cross-validation to train Random Forest\n",
    "- Tune Hyperparameters on train data\n",
    "- Evaluate on test: Accuracy, Confusion Matrix, ROC/AUROC\n"
   ]
  },
  {
   "cell_type": "code",
   "execution_count": 1,
   "metadata": {},
   "outputs": [],
   "source": [
    "from pyspark.sql import SparkSession\n",
    "spark = SparkSession.builder.getOrCreate()\n",
    "\n",
    "from pyspark.sql.functions import *\n",
    "from pyspark.sql import functions as F\n",
    "import pandas as pd\n",
    "import numpy as np\n",
    "import time"
   ]
  },
  {
   "cell_type": "code",
   "execution_count": 2,
   "metadata": {},
   "outputs": [],
   "source": [
    "# Load Data\n",
    "df = spark.read.parquet(\"/project/ds5559/Group_6_Housing/DS-5110-Final-Project/df_model_1.parquet\")"
   ]
  },
  {
   "cell_type": "code",
   "execution_count": 3,
   "metadata": {},
   "outputs": [
    {
     "data": {
      "text/plain": [
       "['Current_Loan_Delinquency_Status',\n",
       " 'Current_Loan_Delinquency_Status_Cat',\n",
       " 'Credit_Score',\n",
       " 'First_Time_Homebuyer_Flag',\n",
       " 'Occupancy_Status',\n",
       " 'Original_Combined_Loan-to-Value_CLTV',\n",
       " 'Original_Debt-to-Income_DTI_Ratio',\n",
       " 'Original_Interest_Rate',\n",
       " 'Loan_Purpose',\n",
       " 'Original_Loan_Term',\n",
       " 'Number_of_Borrowers',\n",
       " 'Loan_Age',\n",
       " 'Actual_Loss_Calculation',\n",
       " 'Delinquent_Accrued_Interest',\n",
       " 'Remaining_Months_to_Legal_Maturity',\n",
       " 'Modification_Flag',\n",
       " 'Change_of_Interest_Rate',\n",
       " 'label']"
      ]
     },
     "execution_count": 3,
     "metadata": {},
     "output_type": "execute_result"
    }
   ],
   "source": [
    "#create binary variable for response\n",
    "df = df.withColumn(\"label\", when(df.Current_Loan_Delinquency_Status_Cat == \"Past_Due\", 1.0).\\\n",
    "                             when(df.Current_Loan_Delinquency_Status_Cat == \"Deliquent\",1.0).\\\n",
    "                            when(df.Current_Loan_Delinquency_Status_Cat == \"0\",0.0))\n",
    "df.columns"
   ]
  },
  {
   "cell_type": "code",
   "execution_count": 4,
   "metadata": {},
   "outputs": [
    {
     "name": "stdout",
     "output_type": "stream",
     "text": [
      "root\n",
      " |-- Current_Loan_Delinquency_Status: string (nullable = true)\n",
      " |-- Current_Loan_Delinquency_Status_Cat: string (nullable = true)\n",
      " |-- Credit_Score: integer (nullable = true)\n",
      " |-- First_Time_Homebuyer_Flag: string (nullable = true)\n",
      " |-- Occupancy_Status: string (nullable = true)\n",
      " |-- Original_Combined_Loan-to-Value_CLTV: integer (nullable = true)\n",
      " |-- Original_Debt-to-Income_DTI_Ratio: integer (nullable = true)\n",
      " |-- Original_Interest_Rate: float (nullable = true)\n",
      " |-- Loan_Purpose: string (nullable = true)\n",
      " |-- Original_Loan_Term: integer (nullable = true)\n",
      " |-- Number_of_Borrowers: string (nullable = true)\n",
      " |-- Loan_Age: integer (nullable = true)\n",
      " |-- Actual_Loss_Calculation: integer (nullable = true)\n",
      " |-- Delinquent_Accrued_Interest: integer (nullable = true)\n",
      " |-- Remaining_Months_to_Legal_Maturity: integer (nullable = true)\n",
      " |-- Modification_Flag: string (nullable = true)\n",
      " |-- Change_of_Interest_Rate: float (nullable = true)\n",
      " |-- label: double (nullable = true)\n",
      "\n"
     ]
    }
   ],
   "source": [
    "df.printSchema()"
   ]
  },
  {
   "cell_type": "code",
   "execution_count": 5,
   "metadata": {},
   "outputs": [
    {
     "name": "stdout",
     "output_type": "stream",
     "text": [
      "+-----+-----------+-----------------+\n",
      "|label|label_count|          Percent|\n",
      "+-----+-----------+-----------------+\n",
      "|  0.0|    4152122|94.12775245309847|\n",
      "|  1.0|     259034|5.872247546901538|\n",
      "+-----+-----------+-----------------+\n",
      "\n"
     ]
    }
   ],
   "source": [
    "total = df.count()\n",
    "\n",
    "response_cat = df.select(\"label\").\\\n",
    "                groupBy('label').\\\n",
    "                agg(F.count('label').alias(\"label_count\")).\\\n",
    "                withColumn(\"Percent\", col('label_count')/total*100)\n",
    "\n",
    "response_cat.show()"
   ]
  },
  {
   "cell_type": "code",
   "execution_count": 6,
   "metadata": {},
   "outputs": [],
   "source": [
    "from pyspark.ml.feature import Bucketizer\n",
    "from pyspark.ml.feature import OneHotEncoder, StringIndexer\n",
    "from pyspark.ml.feature import VectorAssembler\n",
    "from pyspark.ml.feature import MaxAbsScaler\n",
    "from pyspark.ml.tuning import ParamGridBuilder, CrossValidator\n",
    "from pyspark.ml.feature import StandardScaler\n",
    "from pyspark.ml import Pipeline\n",
    "from pyspark.ml.classification import LogisticRegression\n",
    "from pyspark.ml.evaluation import RegressionEvaluator\n",
    "from pyspark.ml.classification import DecisionTreeClassifier\n",
    "from pyspark.ml.classification import RandomForestClassifier\n",
    "from pyspark.ml.classification import GBTClassifier\n",
    "from pyspark.ml.evaluation import BinaryClassificationEvaluator\n",
    "from pyspark.mllib.evaluation import BinaryClassificationMetrics"
   ]
  },
  {
   "cell_type": "markdown",
   "metadata": {},
   "source": [
    "### Create Pipeline with Transformers\n"
   ]
  },
  {
   "cell_type": "code",
   "execution_count": 7,
   "metadata": {},
   "outputs": [],
   "source": [
    "seed = 314\n",
    "train_test = [0.5,0.5]\n",
    "train, test = df.randomSplit(train_test, seed)\n",
    "\n",
    "frac=train.filter(train.label==1).count()/train.filter(train.label==0).count()\n",
    "\n",
    "train = train.sampleBy(\"label\", fractions={0:frac, 1:1}, seed=seed)\n",
    "\n",
    "# Use smaller subset to test code\n",
    "sample = df.sampleBy(\"label\", fractions={0: 0.05, 1: 0.05}, seed=seed)\n",
    "holdout = df.subtract(sample)"
   ]
  },
  {
   "cell_type": "code",
   "execution_count": 8,
   "metadata": {},
   "outputs": [],
   "source": [
    "from pyspark.sql.types import IntegerType\n",
    "\n",
    "\n",
    "df = df.withColumn(\"Number_of_Borrowers\",df[\"Number_of_Borrowers\"].cast(IntegerType()))\n",
    "df = df.withColumn(\"label\",df[\"label\"].cast(IntegerType()))"
   ]
  },
  {
   "cell_type": "code",
   "execution_count": 9,
   "metadata": {},
   "outputs": [
    {
     "name": "stdout",
     "output_type": "stream",
     "text": [
      "root\n",
      " |-- Current_Loan_Delinquency_Status: string (nullable = true)\n",
      " |-- Current_Loan_Delinquency_Status_Cat: string (nullable = true)\n",
      " |-- Credit_Score: integer (nullable = true)\n",
      " |-- First_Time_Homebuyer_Flag: string (nullable = true)\n",
      " |-- Occupancy_Status: string (nullable = true)\n",
      " |-- Original_Combined_Loan-to-Value_CLTV: integer (nullable = true)\n",
      " |-- Original_Debt-to-Income_DTI_Ratio: integer (nullable = true)\n",
      " |-- Original_Interest_Rate: float (nullable = true)\n",
      " |-- Loan_Purpose: string (nullable = true)\n",
      " |-- Original_Loan_Term: integer (nullable = true)\n",
      " |-- Number_of_Borrowers: integer (nullable = true)\n",
      " |-- Loan_Age: integer (nullable = true)\n",
      " |-- Actual_Loss_Calculation: integer (nullable = true)\n",
      " |-- Delinquent_Accrued_Interest: integer (nullable = true)\n",
      " |-- Remaining_Months_to_Legal_Maturity: integer (nullable = true)\n",
      " |-- Modification_Flag: string (nullable = true)\n",
      " |-- Change_of_Interest_Rate: float (nullable = true)\n",
      " |-- label: integer (nullable = true)\n",
      "\n"
     ]
    }
   ],
   "source": [
    "df.printSchema()"
   ]
  },
  {
   "cell_type": "code",
   "execution_count": 10,
   "metadata": {},
   "outputs": [],
   "source": [
    "# Transform features\n",
    "\n",
    "# Bucketize FICO scores into categories\n",
    "splits = [300, 580, 670, 740, 800, 850]\n",
    "bucketizer = Bucketizer(splits=splits, inputCol=\"Credit_Score\", outputCol=\"Credit_Score_Groups\")\n",
    "\n",
    "# Transform Categorical variables into dummy variables using StringIndexer and OneHotEncoder\n",
    "stringIndexer_HF = StringIndexer(inputCol=\"First_Time_Homebuyer_Flag\", outputCol=\"First_Time_Homebuyer_Flag_Index\")\n",
    "encoder_HF = OneHotEncoder(inputCol=\"First_Time_Homebuyer_Flag_Index\", outputCol=\"First_Time_Homebuyer_Flag_Vec\")\n",
    "\n",
    "stringIndexer_LP = StringIndexer(inputCol=\"Loan_Purpose\", outputCol=\"Loan_Purpose_Index\")\n",
    "encoder_LP = OneHotEncoder(inputCol=\"Loan_Purpose_Index\", outputCol=\"Loan_Purpose_Vec\")\n",
    "\n",
    "stringIndexer_OS = StringIndexer(inputCol=\"Occupancy_Status\", outputCol=\"Occupancy_Status_Index\")\n",
    "encoder_OS = OneHotEncoder(inputCol=\"Occupancy_Status_Index\", outputCol=\"Occupancy_Status_Vec\")"
   ]
  },
  {
   "cell_type": "code",
   "execution_count": 11,
   "metadata": {},
   "outputs": [],
   "source": [
    "# Assemble features\n",
    "numericCols = [\"Original_Combined_Loan-to-Value_CLTV\", \"Original_Debt-to-Income_DTI_Ratio\", \"Original_Interest_Rate\"]\n",
    "indexCategoricalCols = [\"Credit_Score_Groups\",\"First_Time_Homebuyer_Flag_Index\", \"Loan_Purpose_Index\", \"Occupancy_Status_Index\"]\n",
    "categoricalCols = [\"Credit_Score_Groups\", \"First_Time_Homebuyer_Flag_Vec\", \"Loan_Purpose_Vec\",\"Occupancy_Status_Vec\"]\n",
    "\n",
    "# no scaling, no OHE\n",
    "assemblerInputs_simple = numericCols + indexCategoricalCols\n",
    "assembler_simple = VectorAssembler(inputCols=assemblerInputs_simple, outputCol=\"features\")\n",
    "\n",
    "# no scaling, with OHE\n",
    "assemblerInputs_mix = numericCols + categoricalCols\n",
    "assembler_mix = VectorAssembler(inputCols=assemblerInputs_mix, outputCol=\"features_OHE\")"
   ]
  },
  {
   "cell_type": "code",
   "execution_count": 12,
   "metadata": {},
   "outputs": [],
   "source": [
    "# With scaled the assembled numerical features and OHE\n",
    "assembler_num = VectorAssembler(inputCols=numericCols, outputCol=\"features\")\n",
    "std = StandardScaler(inputCol='features',outputCol='scaled_features')\n",
    "assemblerInputs_full = ['scaled_features'] + categoricalCols\n",
    "assembler_full = VectorAssembler(inputCols=assemblerInputs_full, outputCol='features_full')"
   ]
  },
  {
   "cell_type": "code",
   "execution_count": 13,
   "metadata": {},
   "outputs": [],
   "source": [
    "# Define Random Forest Model\n",
    "gbt1 = GBTClassifier(labelCol='label', featuresCol=\"features\", maxBins=10, seed=seed)\n",
    "\n",
    "gbt2 = GBTClassifier(labelCol='label', featuresCol=\"features_OHE\", maxBins=10, seed=seed)\n",
    "\n",
    "gbt3 = GBTClassifier(labelCol='label', featuresCol=\"features_full\", maxBins=10, seed=seed)"
   ]
  },
  {
   "cell_type": "code",
   "execution_count": 14,
   "metadata": {},
   "outputs": [],
   "source": [
    "# Set up pipelines\n",
    "# no scaling, no OHE\n",
    "pipeline_gbt1 = Pipeline(stages=[bucketizer, stringIndexer_HF, stringIndexer_LP, stringIndexer_OS,assembler_simple, gbt1])\n",
    "\n",
    "# no scaling with OHE\n",
    "pipeline_gbt2 = Pipeline(stages=[bucketizer, stringIndexer_HF, encoder_HF, stringIndexer_LP,encoder_LP, stringIndexer_OS,encoder_OS, assembler_mix, gbt2])\n",
    "\n",
    "# scaling and OHE\n",
    "pipeline_gbt3 = Pipeline(stages=[bucketizer, stringIndexer_HF, encoder_HF, stringIndexer_LP,encoder_LP, stringIndexer_OS,encoder_OS, assembler_num,std,assembler_full, gbt3])"
   ]
  },
  {
   "cell_type": "code",
   "execution_count": 15,
   "metadata": {},
   "outputs": [],
   "source": [
    "# Evaluator\n",
    "eval_gbt = BinaryClassificationEvaluator()"
   ]
  },
  {
   "cell_type": "markdown",
   "metadata": {},
   "source": [
    "### Train and Evaluate Model\n",
    "\n",
    "Train and test using each pipeline to see if using one hot encoding and scaled numerical variables improves the model."
   ]
  },
  {
   "cell_type": "code",
   "execution_count": null,
   "metadata": {},
   "outputs": [],
   "source": [
    "# no scaling, no OHE\n",
    "m1_start = time.time()\n",
    "model_gbt1 = pipeline_gbt1.fit(train)\n",
    "m1_end = time.time()\n",
    "m1_time = m1_end-m1_start\n",
    "print('Total time for training was ' + str(m1_time))"
   ]
  },
  {
   "cell_type": "code",
   "execution_count": null,
   "metadata": {},
   "outputs": [],
   "source": [
    "pred_gbt1 = model_gbt1.transform(test)"
   ]
  },
  {
   "cell_type": "code",
   "execution_count": null,
   "metadata": {},
   "outputs": [],
   "source": [
    "pred_gbt1.select('label','features','prediction', 'probability').show(5, truncate=False)"
   ]
  },
  {
   "cell_type": "code",
   "execution_count": null,
   "metadata": {},
   "outputs": [],
   "source": [
    "#Best AROC\n",
    "print('Best Test AUROC: ', eval_gbt.evaluate(pred_gbt1))"
   ]
  },
  {
   "cell_type": "code",
   "execution_count": null,
   "metadata": {},
   "outputs": [],
   "source": [
    "model_gbt1.stages[-1].params"
   ]
  },
  {
   "cell_type": "code",
   "execution_count": null,
   "metadata": {},
   "outputs": [],
   "source": [
    "# no scaling, with OHE\n",
    "m1_start = time.time()\n",
    "model_gbt2 = pipeline_gbt2.fit(train)\n",
    "m1_end = time.time()\n",
    "m1_time = m1_end-m1_start\n",
    "print('Total time for training was ' + str(m1_time))"
   ]
  },
  {
   "cell_type": "code",
   "execution_count": null,
   "metadata": {},
   "outputs": [],
   "source": [
    "pred_gbt2 = model_gbt2.transform(test)"
   ]
  },
  {
   "cell_type": "code",
   "execution_count": null,
   "metadata": {},
   "outputs": [],
   "source": [
    "#Best AROC\n",
    "print('Best Test AUROC: ', eval_gbt.evaluate(pred_gbt2))"
   ]
  },
  {
   "cell_type": "code",
   "execution_count": null,
   "metadata": {},
   "outputs": [],
   "source": [
    "# scaling & OHE\n",
    "m1_start = time.time()\n",
    "model_gbt3 = pipeline_gbt3.fit(train)\n",
    "m1_end = time.time()\n",
    "m1_time = m1_end-m1_start\n",
    "print('Total time for training was ' + str(m1_time))"
   ]
  },
  {
   "cell_type": "code",
   "execution_count": null,
   "metadata": {},
   "outputs": [],
   "source": [
    "pred_gbt3 = model_gbt3.transform(test)"
   ]
  },
  {
   "cell_type": "code",
   "execution_count": null,
   "metadata": {},
   "outputs": [],
   "source": [
    "#Best AROC\n",
    "print('Best Test AUROC: ', eval_gbt.evaluate(pred_gbt3))"
   ]
  },
  {
   "cell_type": "markdown",
   "metadata": {},
   "source": [
    "### Train using Cross-Validation\n",
    "\n",
    "Train and test using the mix pipeline since that performed well in the fastest time."
   ]
  },
  {
   "cell_type": "markdown",
   "metadata": {},
   "source": [
    "(*, featuresCol='features', labelCol='label', predictionCol='prediction', maxDepth=5, maxBins=32, minInstancesPerNode=1, minInfoGain=0.0, maxMemoryInMB=256, cacheNodeIds=False, checkpointInterval=10, lossType='logistic', maxIter=20, stepSize=0.1, seed=None, subsamplingRate=1.0, impurity='variance', featureSubsetStrategy='all', validationTol=0.01, validationIndicatorCol=None, leafCol='', minWeightFractionPerNode=0.0, weightCol=None)[source]"
   ]
  },
  {
   "cell_type": "code",
   "execution_count": null,
   "metadata": {},
   "outputs": [],
   "source": [
    "# Cross-validation - RF\n",
    "grid_gbt1 = (ParamGridBuilder().addGrid(gbt1.maxDepth, [2,5,10]). addGrid(gbt1.subsamplingRate, [1.0, .5, .2]).\n",
    "             addGrid(gbt1.featureSubsetStrategy,['all','sqrt']).addGrid(gbt1.stepSize,[.01,.1]).build())"
   ]
  },
  {
   "cell_type": "code",
   "execution_count": null,
   "metadata": {},
   "outputs": [],
   "source": [
    "#cvRF = CrossValidator(estimator=rf, evaluator=evalRF, estimatorParamMaps=gridRF, numFolds=10, seed=seed).setParallelism(4)\n",
    "\n",
    "cv_gbt1 = CrossValidator(estimator=pipeline_gbt1, evaluator=eval_gbt, estimatorParamMaps=grid_gbt1, numFolds=10, seed=seed).setParallelism(4)\n"
   ]
  },
  {
   "cell_type": "code",
   "execution_count": null,
   "metadata": {},
   "outputs": [],
   "source": [
    "m1_start = time.time()\n",
    "cv_gbt = cv_gbt1.fit(train)\n",
    "m1_end = time.time()\n",
    "m1_time = m1_end-m1_start\n",
    "print('Total time for training with 4 parallel processors was ' + str(m1_time))"
   ]
  },
  {
   "cell_type": "code",
   "execution_count": null,
   "metadata": {},
   "outputs": [],
   "source": [
    "path = \"/project/ds5559/Group_6_Housing/DS-5110-Final-Project/model_2_gbt/gbtc\"\n",
    "\n",
    "cv_gbt.write().overwrite().save(path)"
   ]
  },
  {
   "cell_type": "code",
   "execution_count": null,
   "metadata": {},
   "outputs": [],
   "source": [
    "bestModel = cv_gbt.bestModel"
   ]
  },
  {
   "cell_type": "code",
   "execution_count": null,
   "metadata": {},
   "outputs": [],
   "source": [
    "bestModel.getThresholds()"
   ]
  },
  {
   "cell_type": "code",
   "execution_count": null,
   "metadata": {},
   "outputs": [],
   "source": [
    "bestModel.stages"
   ]
  },
  {
   "cell_type": "code",
   "execution_count": null,
   "metadata": {},
   "outputs": [],
   "source": [
    "gbt_best = bestModel.transform(test)"
   ]
  },
  {
   "cell_type": "code",
   "execution_count": null,
   "metadata": {},
   "outputs": [],
   "source": [
    "gbt_best.summary"
   ]
  },
  {
   "cell_type": "markdown",
   "metadata": {},
   "source": [
    "#Best AUROC\n",
    "print('Best Test AUROC: ', evalRF.evaluate(predRF_best))"
   ]
  },
  {
   "cell_type": "code",
   "execution_count": 41,
   "metadata": {},
   "outputs": [
    {
     "data": {
      "text/plain": [
       "{Param(parent='GBTClassifier_ab4d2fe584b1', name='cacheNodeIds', doc='If false, the algorithm will pass trees to executors to match instances with nodes. If true, the algorithm will cache node IDs for each instance. Caching can speed up training of deeper trees. Users can set how often should the cache be checkpointed or disable it by setting checkpointInterval.'): False,\n",
       " Param(parent='GBTClassifier_ab4d2fe584b1', name='checkpointInterval', doc='set checkpoint interval (>= 1) or disable checkpoint (-1). E.g. 10 means that the cache will get checkpointed every 10 iterations. Note: this setting will be ignored if the checkpoint directory is not set in the SparkContext.'): 10,\n",
       " Param(parent='GBTClassifier_ab4d2fe584b1', name='featureSubsetStrategy', doc=\"The number of features to consider for splits at each tree node. Supported options: 'auto' (choose automatically for task: If numTrees == 1, set to 'all'. If numTrees > 1 (forest), set to 'sqrt' for classification and to 'onethird' for regression), 'all' (use all features), 'onethird' (use 1/3 of the features), 'sqrt' (use sqrt(number of features)), 'log2' (use log2(number of features)), 'n' (when n is in the range (0, 1.0], use n * number of features. When n is in the range (1, number of features), use n features). default = 'auto'\"): 'all',\n",
       " Param(parent='GBTClassifier_ab4d2fe584b1', name='featuresCol', doc='features column name.'): 'features',\n",
       " Param(parent='GBTClassifier_ab4d2fe584b1', name='impurity', doc='Criterion used for information gain calculation (case-insensitive). Supported options: variance'): 'variance',\n",
       " Param(parent='GBTClassifier_ab4d2fe584b1', name='labelCol', doc='label column name.'): 'label',\n",
       " Param(parent='GBTClassifier_ab4d2fe584b1', name='leafCol', doc='Leaf indices column name. Predicted leaf index of each instance in each tree by preorder.'): '',\n",
       " Param(parent='GBTClassifier_ab4d2fe584b1', name='lossType', doc='Loss function which GBT tries to minimize (case-insensitive). Supported options: logistic'): 'logistic',\n",
       " Param(parent='GBTClassifier_ab4d2fe584b1', name='maxBins', doc='Max number of bins for discretizing continuous features.  Must be >=2 and >= number of categories for any categorical feature.'): 10,\n",
       " Param(parent='GBTClassifier_ab4d2fe584b1', name='maxDepth', doc='Maximum depth of the tree. (>= 0) E.g., depth 0 means 1 leaf node; depth 1 means 1 internal node + 2 leaf nodes.'): 5,\n",
       " Param(parent='GBTClassifier_ab4d2fe584b1', name='maxIter', doc='max number of iterations (>= 0).'): 20,\n",
       " Param(parent='GBTClassifier_ab4d2fe584b1', name='maxMemoryInMB', doc='Maximum memory in MB allocated to histogram aggregation. If too small, then 1 node will be split per iteration, and its aggregates may exceed this size.'): 256,\n",
       " Param(parent='GBTClassifier_ab4d2fe584b1', name='minInfoGain', doc='Minimum information gain for a split to be considered at a tree node.'): 0.0,\n",
       " Param(parent='GBTClassifier_ab4d2fe584b1', name='minInstancesPerNode', doc='Minimum number of instances each child must have after split. If a split causes the left or right child to have fewer than minInstancesPerNode, the split will be discarded as invalid. Should be >= 1.'): 1,\n",
       " Param(parent='GBTClassifier_ab4d2fe584b1', name='minWeightFractionPerNode', doc='Minimum fraction of the weighted sample count that each child must have after split. If a split causes the fraction of the total weight in the left or right child to be less than minWeightFractionPerNode, the split will be discarded as invalid. Should be in interval [0.0, 0.5).'): 0.0,\n",
       " Param(parent='GBTClassifier_ab4d2fe584b1', name='predictionCol', doc='prediction column name.'): 'prediction',\n",
       " Param(parent='GBTClassifier_ab4d2fe584b1', name='probabilityCol', doc='Column name for predicted class conditional probabilities. Note: Not all models output well-calibrated probability estimates! These probabilities should be treated as confidences, not precise probabilities.'): 'probability',\n",
       " Param(parent='GBTClassifier_ab4d2fe584b1', name='rawPredictionCol', doc='raw prediction (a.k.a. confidence) column name.'): 'rawPrediction',\n",
       " Param(parent='GBTClassifier_ab4d2fe584b1', name='seed', doc='random seed.'): 314,\n",
       " Param(parent='GBTClassifier_ab4d2fe584b1', name='stepSize', doc='Step size (a.k.a. learning rate) in interval (0, 1] for shrinking the contribution of each estimator.'): 0.1,\n",
       " Param(parent='GBTClassifier_ab4d2fe584b1', name='subsamplingRate', doc='Fraction of the training data used for learning each decision tree, in range (0, 1].'): 1.0,\n",
       " Param(parent='GBTClassifier_ab4d2fe584b1', name='validationTol', doc='Threshold for stopping early when fit with validation is used. If the error rate on the validation input changes by less than the validationTol, then learning will stop early (before `maxIter`). This parameter is ignored when fit without validation is used.'): 0.01}"
      ]
     },
     "execution_count": 41,
     "metadata": {},
     "output_type": "execute_result"
    }
   ],
   "source": [
    "bestModel.stages[-1].extractParamMap()"
   ]
  },
  {
   "cell_type": "code",
   "execution_count": 42,
   "metadata": {},
   "outputs": [
    {
     "name": "stdout",
     "output_type": "stream",
     "text": [
      "GBTClassificationModel: uid = GBTClassifier_ab4d2fe584b1, numTrees=20, numClasses=2, numFeatures=7\n"
     ]
    }
   ],
   "source": [
    "print(bestModel.stages[-1])"
   ]
  },
  {
   "cell_type": "code",
   "execution_count": 47,
   "metadata": {},
   "outputs": [
    {
     "data": {
      "text/plain": [
       "Param(parent='GBTClassifier_ab4d2fe584b1', name='thresholds', doc=\"Thresholds in multi-class classification to adjust the probability of predicting each class. Array must have length equal to the number of classes, with values > 0, excepting that at most one value may be 0. The class with largest value p/t is predicted, where p is the original probability of that class and t is the class's threshold.\")"
      ]
     },
     "execution_count": 47,
     "metadata": {},
     "output_type": "execute_result"
    }
   ],
   "source": [
    "bestModel.stages[-1].thresholds"
   ]
  },
  {
   "cell_type": "code",
   "execution_count": 48,
   "metadata": {},
   "outputs": [
    {
     "name": "stdout",
     "output_type": "stream",
     "text": [
      "Best Test AUROC:  0.7175478572582471\n"
     ]
    }
   ],
   "source": [
    "#Best AUROC\n",
    "print('Best Test AUROC: ', eval_gbt.evaluate(gbt_best))"
   ]
  },
  {
   "cell_type": "code",
   "execution_count": 49,
   "metadata": {},
   "outputs": [
    {
     "name": "stdout",
     "output_type": "stream",
     "text": [
      "model accuracy: 0.656999451122977\n",
      "model precision: 0.10814717460587155\n",
      "model recall: 0.6686466403528422\n",
      "model F-Score: 0.7827088165487807\n",
      "[[1362988.  713872.]\n",
      " [  42898.   86565.]]\n",
      "Negative Predictive Value: 0.9694868573981105\n"
     ]
    }
   ],
   "source": [
    "#Evaluate Accuracy and Confusion Matrix on test matrix\n",
    "\n",
    "from pyspark.mllib.evaluation import MulticlassMetrics\n",
    "\n",
    "temp = gbt_best.select(\"probability\", \"label\")\n",
    "\n",
    "def round_thres(num):\n",
    "    if num >= .5:\n",
    "        return 1.0\n",
    "    else:\n",
    "        return 0.0\n",
    "                       \n",
    "predsAndLabels = temp.rdd.map(lambda p: (round_thres(float(p.probability[1])),p.label))\n",
    "\n",
    "metrics = MulticlassMetrics(predsAndLabels)\n",
    "\n",
    "print('model accuracy: ' + str(metrics.accuracy))\n",
    "\n",
    "print('model precision: ' + str(metrics.precision(1.0)))\n",
    "print('model recall: ' + str(metrics.recall(1.0)))\n",
    "\n",
    "print('model F-Score: ' + str(metrics.fMeasure(0.0, 1.0)))\n",
    "\n",
    "con_matrix = metrics.confusionMatrix().toArray()\n",
    "print(con_matrix)\n",
    "\n",
    "#Maximize Negative Predictive value NPV\n",
    "NPV = con_matrix[0][0]/(con_matrix[0][0]+con_matrix[1][0])\n",
    "print(\"Negative Predictive Value: \" + str(NPV))"
   ]
  },
  {
   "cell_type": "markdown",
   "metadata": {},
   "source": [
    "---"
   ]
  },
  {
   "cell_type": "markdown",
   "metadata": {},
   "source": [
    "<b> ROC Curve Calculation </b>\n"
   ]
  },
  {
   "cell_type": "code",
   "execution_count": 51,
   "metadata": {},
   "outputs": [],
   "source": [
    "x1 = []\n",
    "y1 = []\n",
    "\n",
    "\n",
    "def round_thres(num):\n",
    "    if num >= 0.25:\n",
    "        return 1.0\n",
    "    else:\n",
    "        return 0.0\n",
    "                       \n",
    "predsAndLabels = temp.rdd.map(lambda p: (round_thres(float(p.probability[1])),p.label))\n",
    "\n",
    "metrics = MulticlassMetrics(predsAndLabels)\n",
    "\n",
    "x1.append(metrics.falsePositiveRate(1.0))\n",
    "y1.append(metrics.truePositiveRate(1.0))"
   ]
  },
  {
   "cell_type": "code",
   "execution_count": 52,
   "metadata": {},
   "outputs": [
    {
     "name": "stdout",
     "output_type": "stream",
     "text": [
      "model accuracy: 0.5821944475038333\n",
      "model precision: 0.09807333129753645\n",
      "model F-Score: 0.720449966216749\n",
      "[[1187839.  889021.]\n",
      " [  32793.   96670.]]\n",
      "Negative Predictive Value: 0.9731344090602245\n"
     ]
    }
   ],
   "source": [
    "#Evaluate Accuracy and Confusion Matrix on test matrix\n",
    "def round_thres(num):\n",
    "    if num >= .45:\n",
    "        return 1.0\n",
    "    else:\n",
    "        return 0.0\n",
    "                       \n",
    "predsAndLabels = temp.rdd.map(lambda p: (round_thres(float(p.probability[1])),p.label))\n",
    "\n",
    "metrics = MulticlassMetrics(predsAndLabels)\n",
    "\n",
    "print('model accuracy: ' + str(metrics.accuracy))\n",
    "\n",
    "print('model precision: ' + str(metrics.precision(1.0)))\n",
    "\n",
    "print('model F-Score: ' + str(metrics.fMeasure(0.0, 1.0)))\n",
    "\n",
    "x1.append(metrics.falsePositiveRate(1.0))\n",
    "y1.append(metrics.truePositiveRate(1.0))\n",
    "\n",
    "con_matrix = metrics.confusionMatrix().toArray()\n",
    "print(con_matrix)\n",
    "\n",
    "#Maximize Negative Predictive value NPV\n",
    "NPV = con_matrix[0][0]/(con_matrix[0][0]+con_matrix[1][0])\n",
    "print(\"Negative Predictive Value: \" + str(NPV))"
   ]
  },
  {
   "cell_type": "code",
   "execution_count": 53,
   "metadata": {},
   "outputs": [
    {
     "name": "stdout",
     "output_type": "stream",
     "text": [
      "model accuracy: 0.656999451122977\n",
      "model precision: 0.10814717460587155\n",
      "model F-Score: 0.7827088165487807\n",
      "[[1362988.  713872.]\n",
      " [  42898.   86565.]]\n",
      "Negative Predictive Value: 0.9694868573981105\n"
     ]
    }
   ],
   "source": [
    "def round_thres(num):\n",
    "    if num >= 0.5:\n",
    "        return 1.0\n",
    "    else:\n",
    "        return 0.0\n",
    "                       \n",
    "predsAndLabels = temp.rdd.map(lambda p: (round_thres(float(p.probability[1])),p.label))\n",
    "\n",
    "metrics = MulticlassMetrics(predsAndLabels)\n",
    "\n",
    "print('model accuracy: ' + str(metrics.accuracy))\n",
    "\n",
    "print('model precision: ' + str(metrics.precision(1.0)))\n",
    "\n",
    "print('model F-Score: ' + str(metrics.fMeasure(0.0, 1.0)))\n",
    "\n",
    "x1.append(metrics.falsePositiveRate(1.0))\n",
    "y1.append(metrics.truePositiveRate(1.0))\n",
    "\n",
    "con_matrix = metrics.confusionMatrix().toArray()\n",
    "print(con_matrix)\n",
    "\n",
    "#Maximize Negative Predictive value NPV\n",
    "NPV = con_matrix[0][0]/(con_matrix[0][0]+con_matrix[1][0])\n",
    "print(\"Negative Predictive Value: \" + str(NPV))"
   ]
  },
  {
   "cell_type": "code",
   "execution_count": 54,
   "metadata": {},
   "outputs": [
    {
     "name": "stdout",
     "output_type": "stream",
     "text": [
      "model accuracy: 0.7324707216486435\n",
      "model precision: 0.12152339149104636\n",
      "model F-Score: 0.839361469352031\n",
      "[[1542090.  534770.]\n",
      " [  55486.   73977.]]\n",
      "Negative Predictive Value: 0.9652686319774458\n"
     ]
    }
   ],
   "source": [
    "def round_thres(num):\n",
    "    if num >= 1-.44:\n",
    "        return 1.0\n",
    "    else:\n",
    "        return 0.0\n",
    "\n",
    "predsAndLabels = temp.rdd.map(lambda p: (round_thres(float(p.probability[1])),p.label))\n",
    "\n",
    "metrics = MulticlassMetrics(predsAndLabels)\n",
    "\n",
    "print('model accuracy: ' + str(metrics.accuracy))\n",
    "\n",
    "print('model precision: ' + str(metrics.precision(1.0)))\n",
    "\n",
    "print('model F-Score: ' + str(metrics.fMeasure(0.0, 1.0)))\n",
    "\n",
    "x1.append(metrics.falsePositiveRate(1.0))\n",
    "y1.append(metrics.truePositiveRate(1.0))\n",
    "\n",
    "con_matrix = metrics.confusionMatrix().toArray()\n",
    "print(con_matrix)\n",
    "\n",
    "#Maximize Negative Predictive value NPV\n",
    "NPV = con_matrix[0][0]/(con_matrix[0][0]+con_matrix[1][0])\n",
    "print(\"Negative Predictive Value: \" + str(NPV))"
   ]
  },
  {
   "cell_type": "code",
   "execution_count": 55,
   "metadata": {},
   "outputs": [],
   "source": [
    "def round_thres(num):\n",
    "    if num >= 0.75:\n",
    "        return 1.0\n",
    "    else:\n",
    "        return 0.0\n",
    "                       \n",
    "predsAndLabels = temp.rdd.map(lambda p: (round_thres(float(p.probability[1])),p.label))\n",
    "\n",
    "metrics = MulticlassMetrics(predsAndLabels)\n",
    "\n",
    "x1.append(metrics.falsePositiveRate(1.0))\n",
    "y1.append(metrics.truePositiveRate(1.0))"
   ]
  },
  {
   "cell_type": "code",
   "execution_count": 56,
   "metadata": {},
   "outputs": [],
   "source": [
    "def round_thres(num):\n",
    "    if num >= 0.85:\n",
    "        return 1.0\n",
    "    else:\n",
    "        return 0.0\n",
    "                       \n",
    "predsAndLabels = temp.rdd.map(lambda p: (round_thres(float(p.probability[1])),p.label))\n",
    "\n",
    "metrics = MulticlassMetrics(predsAndLabels)\n",
    "\n",
    "x1.append(metrics.falsePositiveRate(1.0))\n",
    "y1.append(metrics.truePositiveRate(1.0))"
   ]
  },
  {
   "cell_type": "code",
   "execution_count": 57,
   "metadata": {},
   "outputs": [
    {
     "data": {
      "image/png": "[encoded data removed]",
      "text/plain": [
       "<Figure size 640x480 with 1 Axes>"
      ]
     },
     "metadata": {},
     "output_type": "display_data"
    }
   ],
   "source": [
    "import matplotlib.pyplot as plt\n",
    "\n",
    "plt.figure()\n",
    "plt.title(\"ROC\")\n",
    "plt.xlabel(\"FPR\")\n",
    "plt.ylabel(\"TPR\")\n",
    "plt.plot(x1, y1)\n",
    "plt.show()"
   ]
  },
  {
   "cell_type": "code",
   "execution_count": null,
   "metadata": {},
   "outputs": [],
   "source": []
  },
  {
   "cell_type": "code",
   "execution_count": null,
   "metadata": {},
   "outputs": [],
   "source": []
  }
 ],
 "metadata": {
  "kernelspec": {
   "display_name": "DS 5110 Spark 3.1",
   "language": "python",
   "name": "ds5110_spark3.1"
  },
  "language_info": {
   "codemirror_mode": {
    "name": "ipython",
    "version": 3
   },
   "file_extension": ".py",
   "mimetype": "text/x-python",
   "name": "python",
   "nbconvert_exporter": "python",
   "pygments_lexer": "ipython3",
   "version": "3.7.10"
  }
 },
 "nbformat": 4,
 "nbformat_minor": 4
}
