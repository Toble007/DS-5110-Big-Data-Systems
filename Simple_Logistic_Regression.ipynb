{
 "cells": [
  {
   "cell_type": "markdown",
   "metadata": {},
   "source": [
    "# Freddie Mac Mortgage Data\n",
    "\n",
    "### Pipeline -Simple Logistic Regression\n",
    "\n",
    "Thomas Butler (vra2cf), Andrej Erkelens (wsw3fa), Matt Suozzi (mds5dd)\n",
    "\n",
    "labelCol: Delinquency Status\n",
    "\n",
    "- Downsample and Split train and test data\n",
    "- StringIndexer and OneHotEncoder for categorical features\n",
    "- VectorAssembler of numerical features\n",
    "- StandardScalar to scale features (if necessary)\n",
    "- Cross-validation to train Random Forest\n",
    "- Tune Hyperparameters on train data\n",
    "- Evaluate on test: Accuracy, Confusion Matrix, ROC/AUROC\n"
   ]
  },
  {
   "cell_type": "code",
   "execution_count": 1,
   "metadata": {},
   "outputs": [],
   "source": [
    "from pyspark.sql import SparkSession\n",
    "spark = SparkSession.builder.getOrCreate()\n",
    "\n",
    "from pyspark.sql.functions import *\n",
    "import pandas as pd\n",
    "import numpy as np"
   ]
  },
  {
   "cell_type": "code",
   "execution_count": 2,
   "metadata": {},
   "outputs": [],
   "source": [
    "df = spark.read.parquet(\"/project/ds5559/Group_6_Housing/DS-5110-Final-Project/df_model_1.parquet\")"
   ]
  },
  {
   "cell_type": "code",
   "execution_count": 3,
   "metadata": {},
   "outputs": [],
   "source": [
    "#create binary variable for response\n",
    "df = df.withColumn(\"label\", when(df.Current_Loan_Delinquency_Status_Cat == \"Past_Due\", 1.0).\\\n",
    "                             when(df.Current_Loan_Delinquency_Status_Cat == \"Deliquent\",1.0).\\\n",
    "                            when(df.Current_Loan_Delinquency_Status_Cat == \"0\",0.0))"
   ]
  },
  {
   "cell_type": "code",
   "execution_count": 4,
   "metadata": {},
   "outputs": [],
   "source": [
    "#Get all columns that need to be scaled.\n",
    "from pyspark.ml.feature import VectorAssembler\n",
    "\n",
    "assembler = VectorAssembler(\n",
    "    inputCols=[\"Original_Interest_Rate\"],\n",
    "    outputCol=\"features_temp\")"
   ]
  },
  {
   "cell_type": "code",
   "execution_count": 5,
   "metadata": {},
   "outputs": [],
   "source": [
    "#Scale data\n",
    "from pyspark.ml.feature import MaxAbsScaler\n",
    "\n",
    "scaler = MaxAbsScaler(inputCol=\"features_temp\", outputCol=\"scaledFeatures\")"
   ]
  },
  {
   "cell_type": "code",
   "execution_count": 6,
   "metadata": {},
   "outputs": [],
   "source": [
    "#Set up pipeline\n",
    "from pyspark.ml import Pipeline\n",
    "\n",
    "pipeline = Pipeline(stages=[assembler, scaler])"
   ]
  },
  {
   "cell_type": "code",
   "execution_count": 7,
   "metadata": {},
   "outputs": [],
   "source": [
    "#transform data\n",
    "model1 = pipeline.fit(df)\n",
    "df = model1.transform(df)"
   ]
  },
  {
   "cell_type": "code",
   "execution_count": 8,
   "metadata": {},
   "outputs": [
    {
     "name": "stdout",
     "output_type": "stream",
     "text": [
      "+-----+------+\n",
      "|label| count|\n",
      "+-----+------+\n",
      "|  0.0|129217|\n",
      "|  1.0|129571|\n",
      "+-----+------+\n",
      "\n"
     ]
    }
   ],
   "source": [
    "#Split data\n",
    "train_test = [0.5, 0.5]\n",
    "train_data, test_data = df.randomSplit(train_test, 314)\n",
    "\n",
    "#Downsample the dataframe by the label class \n",
    "#take fraction of label 0 so counts of label 1 ~= label 0\n",
    "\n",
    "#frac = below code just hardencoding it to make it faster. Original code is commented out.\n",
    "#frac = train_data.filter(train_data.label == 1).count()/train_data.filter(train_data.label == 0).count()\n",
    "frac = 0.06243591176833405\n",
    "\n",
    "train_data = train_data.sampleBy(\"label\", fractions={0: frac, 1: 1}, seed=314)\n",
    "train_data.cache()\n",
    "train_data.groupBy(\"label\").count().show()"
   ]
  },
  {
   "cell_type": "code",
   "execution_count": 9,
   "metadata": {},
   "outputs": [],
   "source": [
    "#Run logistic regression on train data\n",
    "from pyspark.ml.classification import LogisticRegression\n",
    "\n",
    "log_reg = LogisticRegression(labelCol = \"label\", featuresCol = \"scaledFeatures\", maxIter = 10, regParam = 0.3, elasticNetParam=0.8, family=\"binomial\")"
   ]
  },
  {
   "cell_type": "code",
   "execution_count": 10,
   "metadata": {},
   "outputs": [],
   "source": [
    "#set up CV model\n",
    "from pyspark.ml.tuning import ParamGridBuilder, CrossValidator\n",
    "from pyspark.ml.evaluation import BinaryClassificationEvaluator\n",
    "#reference: https://medium.com/swlh/logistic-regression-with-pyspark-60295d41221\n",
    "\n",
    "#Create Grid for CV\n",
    "pGrid = (ParamGridBuilder()\n",
    "        .addGrid(log_reg.regParam, [0.01, 0.5, 2.0])\n",
    "        .addGrid(log_reg.elasticNetParam, [0.0, 0.5, 1.0])\n",
    "        .addGrid(log_reg.maxIter, [1, 5, 10])\n",
    "        .build())\n",
    "\n",
    "#log reg CV model\n",
    "lr_cv = CrossValidator(estimator = log_reg, estimatorParamMaps = pGrid, evaluator = BinaryClassificationEvaluator(), numFolds=5).setParallelism(2)"
   ]
  },
  {
   "cell_type": "code",
   "execution_count": 11,
   "metadata": {},
   "outputs": [],
   "source": [
    "#run model\n",
    "model = lr_cv.fit(train_data)"
   ]
  },
  {
   "cell_type": "code",
   "execution_count": 12,
   "metadata": {},
   "outputs": [
    {
     "name": "stdout",
     "output_type": "stream",
     "text": [
      "Best Test AUROC:  0.6829182258787415\n"
     ]
    }
   ],
   "source": [
    "#Run model on test data\n",
    "pred = model.transform(test_data)\n",
    "\n",
    "#Best AROC\n",
    "print('Best Test AUROC: ', BinaryClassificationEvaluator().evaluate(pred))"
   ]
  },
  {
   "cell_type": "code",
   "execution_count": 13,
   "metadata": {},
   "outputs": [
    {
     "name": "stdout",
     "output_type": "stream",
     "text": [
      "regParam: 0.5\n",
      "elasticNetParam: 0.0\n",
      "maxIter: 10\n"
     ]
    }
   ],
   "source": [
    "#Best Parameters\n",
    "#ref: https://medium.com/swlh/logistic-regression-with-pyspark-60295d41221\n",
    "bestModel = model.bestModel\n",
    "\n",
    "print(\"regParam: \" + str(bestModel._java_obj.getRegParam()))\n",
    "print(\"elasticNetParam: \" + str(bestModel._java_obj.getElasticNetParam()))\n",
    "print(\"maxIter: \" + str(bestModel._java_obj.getMaxIter()))"
   ]
  },
  {
   "cell_type": "code",
   "execution_count": 14,
   "metadata": {},
   "outputs": [
    {
     "name": "stdout",
     "output_type": "stream",
     "text": [
      "Best F-Measure: 0.689981227419418\n",
      "Best Threshold: 0.4617674384389655\n"
     ]
    }
   ],
   "source": [
    "#get best threshold by F1 score\n",
    "F_measure = bestModel.summary.fMeasureByThreshold\n",
    "\n",
    "#determine best Threshold by F score because we care more about false positives and false negatives.\n",
    "#ref: https://spark.apache.org/docs/2.1.0/ml-classification-regression.html\n",
    "\n",
    "maxF_measure = F_measure.groupBy().max('F-Measure').select('max(F-Measure)').head()\n",
    "best_thres = F_measure.where(F_measure[\"F-Measure\"] == maxF_measure['max(F-Measure)']).select('threshold').head()[\"threshold\"]\n",
    "print(\"Best F-Measure: \" + str(maxF_measure[0]))\n",
    "print(\"Best Threshold: \" + str(best_thres))"
   ]
  },
  {
   "cell_type": "code",
   "execution_count": 15,
   "metadata": {},
   "outputs": [
    {
     "name": "stdout",
     "output_type": "stream",
     "text": [
      "The Intercept is -1.052123959081069\n"
     ]
    }
   ],
   "source": [
    "print(\"The Intercept is \" + str(bestModel.intercept))"
   ]
  },
  {
   "cell_type": "code",
   "execution_count": 16,
   "metadata": {},
   "outputs": [
    {
     "name": "stdout",
     "output_type": "stream",
     "text": [
      "Order of Coefficients is Original_Interest_Rate.\n"
     ]
    },
    {
     "data": {
      "text/plain": [
       "DenseVector([1.9451])"
      ]
     },
     "execution_count": 16,
     "metadata": {},
     "output_type": "execute_result"
    }
   ],
   "source": [
    "print(\"Order of Coefficients is Original_Interest_Rate.\")\n",
    "coefficients = bestModel.coefficients\n",
    "coefficients"
   ]
  },
  {
   "cell_type": "code",
   "execution_count": 31,
   "metadata": {},
   "outputs": [],
   "source": [
    "x1 = []\n",
    "y1 = []"
   ]
  },
  {
   "cell_type": "code",
   "execution_count": 32,
   "metadata": {},
   "outputs": [],
   "source": [
    "from pyspark.mllib.evaluation import MulticlassMetrics\n",
    "temp = pred.select(\"probability\", \"label\")"
   ]
  },
  {
   "cell_type": "code",
   "execution_count": 33,
   "metadata": {},
   "outputs": [
    {
     "name": "stdout",
     "output_type": "stream",
     "text": [
      "model accuracy: 0.058678224972703426\n",
      "model precision: 0.058678224972703426\n",
      "model F-Score: 0.0\n",
      "[[      0. 2076858.]\n",
      " [      0.  129463.]]\n",
      "Negative Predictive Value: nan\n"
     ]
    },
    {
     "name": "stderr",
     "output_type": "stream",
     "text": [
      "/opt/conda/lib/python3.7/site-packages/ipykernel/__main__.py:24: RuntimeWarning: invalid value encountered in double_scalars\n"
     ]
    }
   ],
   "source": [
    "def round_thres(num):\n",
    "    if num >= 0.35:\n",
    "        return 1.0\n",
    "    else:\n",
    "        return 0.0\n",
    "                       \n",
    "predsAndLabels = temp.rdd.map(lambda p: (round_thres(float(p.probability[1])),p.label))\n",
    "\n",
    "metrics = MulticlassMetrics(predsAndLabels)\n",
    "\n",
    "print('model accuracy: ' + str(metrics.accuracy))\n",
    "\n",
    "print('model precision: ' + str(metrics.precision(1.0)))\n",
    "\n",
    "print('model F-Score: ' + str(metrics.fMeasure(0.0, 1.0)))\n",
    "\n",
    "x1.append(metrics.falsePositiveRate(1.0))\n",
    "y1.append(metrics.truePositiveRate(1.0))\n",
    "\n",
    "con_matrix = metrics.confusionMatrix().toArray()\n",
    "print(con_matrix)\n",
    "\n",
    "#Maximize Negative Predictive value NPV\n",
    "NPV = con_matrix[0][0]/(con_matrix[0][0]+con_matrix[1][0])\n",
    "print(\"Negative Predictive Value: \" + str(NPV))"
   ]
  },
  {
   "cell_type": "code",
   "execution_count": 34,
   "metadata": {},
   "outputs": [
    {
     "name": "stdout",
     "output_type": "stream",
     "text": [
      "model accuracy: 0.3557705338434434\n",
      "model precision: 0.07526412965432352\n",
      "model F-Score: 0.48544365545815404\n",
      "[[ 670479. 1406379.]\n",
      " [  14998.  114465.]]\n",
      "Negative Predictive Value: 0.9781203453945209\n"
     ]
    }
   ],
   "source": [
    "#Evaluate Accuracy and Confusion Matrix on test matrix\n",
    "def round_thres(num):\n",
    "    if num >= best_thres:\n",
    "        return 1.0\n",
    "    else:\n",
    "        return 0.0\n",
    "                       \n",
    "predsAndLabels = temp.rdd.map(lambda p: (round_thres(float(p.probability[1])),p.label))\n",
    "\n",
    "metrics = MulticlassMetrics(predsAndLabels)\n",
    "\n",
    "print('model accuracy: ' + str(metrics.accuracy))\n",
    "\n",
    "print('model precision: ' + str(metrics.precision(1.0)))\n",
    "\n",
    "print('model F-Score: ' + str(metrics.fMeasure(0.0, 1.0)))\n",
    "\n",
    "x1.append(metrics.falsePositiveRate(1.0))\n",
    "y1.append(metrics.truePositiveRate(1.0))\n",
    "\n",
    "con_matrix = metrics.confusionMatrix().toArray()\n",
    "print(con_matrix)\n",
    "\n",
    "#Maximize Negative Predictive value NPV\n",
    "NPV = con_matrix[0][0]/(con_matrix[0][0]+con_matrix[1][0])\n",
    "print(\"Negative Predictive Value: \" + str(NPV))"
   ]
  },
  {
   "cell_type": "code",
   "execution_count": 35,
   "metadata": {},
   "outputs": [
    {
     "name": "stdout",
     "output_type": "stream",
     "text": [
      "model accuracy: 0.6537752212846635\n",
      "model precision: 0.10032507213325438\n",
      "model F-Score: 0.7810915518486985\n",
      "[[1362813.  714045.]\n",
      " [  49838.   79625.]]\n",
      "Negative Predictive Value: 0.9647202316778879\n"
     ]
    }
   ],
   "source": [
    "def round_thres(num):\n",
    "    if num >= 0.5:\n",
    "        return 1.0\n",
    "    else:\n",
    "        return 0.0\n",
    "\n",
    "predsAndLabels = temp.rdd.map(lambda p: (round_thres(float(p.probability[1])),p.label))\n",
    "\n",
    "metrics = MulticlassMetrics(predsAndLabels)\n",
    "\n",
    "print('model accuracy: ' + str(metrics.accuracy))\n",
    "\n",
    "print('model precision: ' + str(metrics.precision(1.0)))\n",
    "\n",
    "print('model F-Score: ' + str(metrics.fMeasure(0.0, 1.0)))\n",
    "\n",
    "x1.append(metrics.falsePositiveRate(1.0))\n",
    "y1.append(metrics.truePositiveRate(1.0))\n",
    "\n",
    "con_matrix = metrics.confusionMatrix().toArray()\n",
    "print(con_matrix)\n",
    "\n",
    "#Maximize Negative Predictive value NPV\n",
    "NPV = con_matrix[0][0]/(con_matrix[0][0]+con_matrix[1][0])\n",
    "print(\"Negative Predictive Value: \" + str(NPV))"
   ]
  },
  {
   "cell_type": "code",
   "execution_count": 36,
   "metadata": {},
   "outputs": [
    {
     "name": "stdout",
     "output_type": "stream",
     "text": [
      "model accuracy: 0.9407851350732735\n",
      "model precision: 0.21121951219512194\n",
      "model F-Score: 0.9694830499151041\n",
      "[[2.075241e+06 1.617000e+03]\n",
      " [1.290300e+05 4.330000e+02]]\n",
      "Negative Predictive Value: 0.9414636403600102\n"
     ]
    }
   ],
   "source": [
    "def round_thres(num):\n",
    "    if num >= 0.65:\n",
    "        return 1.0\n",
    "    else:\n",
    "        return 0.0\n",
    "\n",
    "predsAndLabels = temp.rdd.map(lambda p: (round_thres(float(p.probability[1])),p.label))\n",
    "\n",
    "metrics = MulticlassMetrics(predsAndLabels)\n",
    "\n",
    "print('model accuracy: ' + str(metrics.accuracy))\n",
    "\n",
    "print('model precision: ' + str(metrics.precision(1.0)))\n",
    "\n",
    "print('model F-Score: ' + str(metrics.fMeasure(0.0, 1.0)))\n",
    "\n",
    "x1.append(metrics.falsePositiveRate(1.0))\n",
    "y1.append(metrics.truePositiveRate(1.0))\n",
    "\n",
    "con_matrix = metrics.confusionMatrix().toArray()\n",
    "print(con_matrix)\n",
    "\n",
    "#Maximize Negative Predictive value NPV\n",
    "NPV = con_matrix[0][0]/(con_matrix[0][0]+con_matrix[1][0])\n",
    "print(\"Negative Predictive Value: \" + str(NPV))"
   ]
  },
  {
   "cell_type": "code",
   "execution_count": 37,
   "metadata": {},
   "outputs": [
    {
     "name": "stdout",
     "output_type": "stream",
     "text": [
      "model accuracy: 0.9413217750272965\n",
      "model precision: 0.0\n",
      "model F-Score: 0.9697740860234887\n",
      "[[2076858.       0.]\n",
      " [ 129463.       0.]]\n",
      "Negative Predictive Value: 0.9413217750272965\n"
     ]
    }
   ],
   "source": [
    "def round_thres(num):\n",
    "    if num >= 0.75:\n",
    "        return 1.0\n",
    "    else:\n",
    "        return 0.0\n",
    "\n",
    "predsAndLabels = temp.rdd.map(lambda p: (round_thres(float(p.probability[1])),p.label))\n",
    "\n",
    "metrics = MulticlassMetrics(predsAndLabels)\n",
    "\n",
    "print('model accuracy: ' + str(metrics.accuracy))\n",
    "\n",
    "print('model precision: ' + str(metrics.precision(1.0)))\n",
    "\n",
    "print('model F-Score: ' + str(metrics.fMeasure(0.0, 1.0)))\n",
    "\n",
    "x1.append(metrics.falsePositiveRate(1.0))\n",
    "y1.append(metrics.truePositiveRate(1.0))\n",
    "\n",
    "con_matrix = metrics.confusionMatrix().toArray()\n",
    "print(con_matrix)\n",
    "\n",
    "#Maximize Negative Predictive value NPV\n",
    "NPV = con_matrix[0][0]/(con_matrix[0][0]+con_matrix[1][0])\n",
    "print(\"Negative Predictive Value: \" + str(NPV))"
   ]
  },
  {
   "cell_type": "code",
   "execution_count": 38,
   "metadata": {},
   "outputs": [
    {
     "name": "stdout",
     "output_type": "stream",
     "text": [
      "model accuracy: 0.9413217750272965\n",
      "model precision: 0.0\n",
      "model F-Score: 0.9697740860234887\n",
      "[[2076858.       0.]\n",
      " [ 129463.       0.]]\n",
      "Negative Predictive Value: 0.9413217750272965\n"
     ]
    }
   ],
   "source": [
    "def round_thres(num):\n",
    "    return 0.0\n",
    "\n",
    "predsAndLabels = temp.rdd.map(lambda p: (round_thres(float(p.probability[1])),p.label))\n",
    "\n",
    "metrics = MulticlassMetrics(predsAndLabels)\n",
    "\n",
    "print('model accuracy: ' + str(metrics.accuracy))\n",
    "\n",
    "print('model precision: ' + str(metrics.precision(1.0)))\n",
    "\n",
    "print('model F-Score: ' + str(metrics.fMeasure(0.0, 1.0)))\n",
    "\n",
    "con_matrix = metrics.confusionMatrix().toArray()\n",
    "print(con_matrix)\n",
    "\n",
    "#Maximize Negative Predictive value NPV\n",
    "NPV = con_matrix[0][0]/(con_matrix[0][0]+con_matrix[1][0])\n",
    "print(\"Negative Predictive Value: \" + str(NPV))"
   ]
  },
  {
   "cell_type": "code",
   "execution_count": 39,
   "metadata": {},
   "outputs": [
    {
     "name": "stdout",
     "output_type": "stream",
     "text": [
      "[1.0, 0.6771666623331976, 0.34381021716458227, 0.0007785799510606888, 0.0, 0.0]\n",
      "[1.0, 0.8841522288221345, 0.6150405907479357, 0.003344584939326294, 0.0, 0.0]\n"
     ]
    }
   ],
   "source": [
    "x1.append(0.0)\n",
    "y1.append(0.0)\n",
    "print(x1)\n",
    "print(y1)"
   ]
  },
  {
   "cell_type": "code",
   "execution_count": 40,
   "metadata": {},
   "outputs": [
    {
     "data": {
      "image/png": "[encoded data removed]",
      "text/plain": [
       "<Figure size 640x480 with 1 Axes>"
      ]
     },
     "metadata": {},
     "output_type": "display_data"
    }
   ],
   "source": [
    "import matplotlib.pyplot as plt\n",
    "\n",
    "plt.figure()\n",
    "plt.title(\"ROC\")\n",
    "plt.xlabel(\"FPR\")\n",
    "plt.ylabel(\"TPR\")\n",
    "plt.plot(x1, y1)\n",
    "plt.show()"
   ]
  },
  {
   "cell_type": "code",
   "execution_count": 41,
   "metadata": {},
   "outputs": [],
   "source": [
    "#ref: https://stackoverflow.com/questions/52847408/pyspark-extract-roc-curve\n",
    "#ROC Curve using Scala, Not my code, put in as a sanity check to make sure ROC Curve is close to right.\n",
    "\n",
    "from pyspark.mllib.evaluation import BinaryClassificationMetrics\n",
    "\n",
    "# Scala version implements .roc() and .pr()\n",
    "# Python: https://spark.apache.org/docs/latest/api/python/_modules/pyspark/mllib/common.html\n",
    "# Scala: https://spark.apache.org/docs/latest/api/java/org/apache/spark/mllib/evaluation/BinaryClassificationMetrics.html\n",
    "class CurveMetrics(BinaryClassificationMetrics):\n",
    "    def __init__(self, *args):\n",
    "        super(CurveMetrics, self).__init__(*args)\n",
    "\n",
    "    def _to_list(self, rdd):\n",
    "        points = []\n",
    "        # Note this collect could be inefficient for large datasets \n",
    "        # considering there may be one probability per datapoint (at most)\n",
    "        # The Scala version takes a numBins parameter, \n",
    "        # but it doesn't seem possible to pass this from Python to Java\n",
    "        for row in rdd.collect():\n",
    "            # Results are returned as type scala.Tuple2, \n",
    "            # which doesn't appear to have a py4j mapping\n",
    "            points += [(float(row._1()), float(row._2()))]\n",
    "        return points\n",
    "\n",
    "    def get_curve(self, method):\n",
    "        rdd = getattr(self._java_model, method)().toJavaRDD()\n",
    "        return self._to_list(rdd)"
   ]
  },
  {
   "cell_type": "code",
   "execution_count": 42,
   "metadata": {},
   "outputs": [],
   "source": [
    "temp = pred.select(\"probability\", \"label\")\n",
    "\n",
    "predsAndLabels = temp.rdd.map(lambda p: (float(p.probability[1]),p.label))\n",
    "\n",
    "points = CurveMetrics(predsAndLabels).get_curve('roc')"
   ]
  },
  {
   "cell_type": "code",
   "execution_count": 43,
   "metadata": {},
   "outputs": [
    {
     "data": {
      "image/png": "[encoded data removed]",
      "text/plain": [
       "<Figure size 640x480 with 1 Axes>"
      ]
     },
     "metadata": {},
     "output_type": "display_data"
    }
   ],
   "source": [
    "plt.figure()\n",
    "x_val = [x[0] for x in points]\n",
    "y_val = [x[1] for x in points]\n",
    "plt.title(\"ROC_check_donotuse\")\n",
    "plt.xlabel(\"FPR\")\n",
    "plt.ylabel(\"TPR\")\n",
    "plt.plot(x_val, y_val)\n",
    "plt.show()"
   ]
  },
  {
   "cell_type": "code",
   "execution_count": null,
   "metadata": {},
   "outputs": [],
   "source": []
  }
 ],
 "metadata": {
  "kernelspec": {
   "display_name": "DS 5110 Spark 3.1",
   "language": "python",
   "name": "ds5110_spark3.1"
  },
  "language_info": {
   "codemirror_mode": {
    "name": "ipython",
    "version": 3
   },
   "file_extension": ".py",
   "mimetype": "text/x-python",
   "name": "python",
   "nbconvert_exporter": "python",
   "pygments_lexer": "ipython3",
   "version": "3.7.10"
  }
 },
 "nbformat": 4,
 "nbformat_minor": 4
}
